{
 "cells": [
  {
   "cell_type": "code",
   "execution_count": 1,
   "metadata": {},
   "outputs": [],
   "source": [
    "# importing important libraries\n",
    "import numpy as np\n",
    "import pandas as pd\n",
    "import matplotlib.pyplot as plt\n",
    "from pathlib import Path\n",
    "from sklearn import svm, metrics\n",
    "from sklearn.utils import Bunch\n",
    "from sklearn.model_selection import GridSearchCV, train_test_split\n",
    "from skimage.io import imread\n",
    "from skimage.transform import resize\n",
    "from sklearn.model_selection import StratifiedShuffleSplit"
   ]
  },
  {
   "cell_type": "markdown",
   "metadata": {},
   "source": [
    "# 1. Image Classification"
   ]
  },
  {
   "cell_type": "markdown",
   "metadata": {},
   "source": [
    "<b>(a) Task: You are given a dataset of eye images divided into three folders namely, Open, Partially Closed and\n",
    "Closed which constitute the labels (y) for the images. This dataset is a modified version of the original\n",
    "dataset from the github repository: https://github.com/hamzahsaleem/eye-blink-detection. Perform\n",
    "multiclass classification using any technique of your choice, which you have learned till now in the machine\n",
    "learning course, to classify the eye images into open, partially closed or closed. Submission has to be as\n",
    "following:</b>"
   ]
  },
  {
   "cell_type": "markdown",
   "metadata": {},
   "source": [
    "<b>i. (1 point) Correct code which we will be able to run.</b>"
   ]
  },
  {
   "cell_type": "code",
   "execution_count": 2,
   "metadata": {},
   "outputs": [],
   "source": [
    "def load_files(container_path, dimension=(64, 64)):\n",
    "    \n",
    "    path = Path(container_path)\n",
    "    \n",
    "    # this will contain path of every folder\n",
    "    folders=[]\n",
    "    for item in path.iterdir():\n",
    "        if item.is_dir():\n",
    "            folders.append(item)\n",
    "    \n",
    "    # this will store the folder names which is the category\n",
    "    labels=[]\n",
    "    for i in folders:\n",
    "        labels.append(i.name)\n",
    "    \n",
    "    # this will store the image in array form\n",
    "    images_arr = []\n",
    "    \n",
    "    # this will store the image data into 1 D array and we will use flatten() to perform this task\n",
    "    flat_data_arr = []\n",
    "    \n",
    "    # this will contain target value for an image\n",
    "    target_arr = []\n",
    "    \n",
    "    # enumerating in the folders\n",
    "    for i, j in enumerate(folders):\n",
    "        for k in j.iterdir():\n",
    "            # reading the image\n",
    "            img = imread(k)\n",
    "            # resizing the image\n",
    "            img_resized = resize(img, dimension, anti_aliasing=True, mode='reflect')\n",
    "            # flattening the image\n",
    "            flat_data_arr.append(img_resized.flatten()) \n",
    "            # appending the data in the respective lists\n",
    "            images_arr.append(img_resized)\n",
    "            target_arr.append(i)\n",
    "    \n",
    "    # converting all array into numpy array\n",
    "    flat_data = np.array(flat_data_arr)\n",
    "    target = np.array(target_arr)\n",
    "    images = np.array(images_arr)\n",
    "    \n",
    "    return Bunch(data=flat_data,\n",
    "                 target=target,\n",
    "                 target_names=labels,\n",
    "                 images=images)"
   ]
  },
  {
   "cell_type": "code",
   "execution_count": 3,
   "metadata": {},
   "outputs": [],
   "source": [
    "# calling the function created above\n",
    "dataset= load_files(\"data/\")"
   ]
  },
  {
   "cell_type": "code",
   "execution_count": null,
   "metadata": {},
   "outputs": [],
   "source": []
  },
  {
   "cell_type": "code",
   "execution_count": 4,
   "metadata": {},
   "outputs": [],
   "source": [
    "# splitting the dataset into train and test\n",
    "X_train,X_test,y_train,y_test=train_test_split(dataset.data,dataset.target,test_size=0.3,random_state=100)"
   ]
  },
  {
   "cell_type": "markdown",
   "metadata": {},
   "source": [
    "<b>ii. (1 point) Apply a technique to find out the best generalization accuracy and report it.</b>"
   ]
  },
  {
   "cell_type": "code",
   "execution_count": 5,
   "metadata": {},
   "outputs": [
    {
     "data": {
      "text/plain": [
       "GridSearchCV(cv=StratifiedShuffleSplit(n_splits=5, random_state=42, test_size=0.3,\n",
       "            train_size=None),\n",
       "             estimator=SVC(),\n",
       "             param_grid=[{'C': [1, 10, 100, 1000], 'kernel': ['linear']},\n",
       "                         {'C': [1, 10, 100, 1000], 'gamma': [0.001, 0.0001],\n",
       "                          'kernel': ['rbf']}])"
      ]
     },
     "execution_count": 5,
     "metadata": {},
     "output_type": "execute_result"
    }
   ],
   "source": [
    "# parameters for which gridCV will run\n",
    "param_grid = [\n",
    "  {'C': [1, 10, 100, 1000], 'kernel': ['linear']},\n",
    "  {'C': [1, 10, 100, 1000], 'gamma': [0.001, 0.0001], 'kernel': ['rbf']},\n",
    " ]\n",
    "\n",
    "# using grid serch cross validation technique for finding the best hyperparameters\n",
    "svc = svm.SVC()\n",
    "cv = StratifiedShuffleSplit(n_splits=5, test_size=0.3, random_state=42)\n",
    "clf = GridSearchCV(svc, param_grid,cv=cv)\n",
    "clf.fit(X_train, y_train)"
   ]
  },
  {
   "cell_type": "code",
   "execution_count": 6,
   "metadata": {},
   "outputs": [
    {
     "name": "stdout",
     "output_type": "stream",
     "text": [
      "The best parameters are {'C': 1, 'kernel': 'linear'} with a score of 0.95\n"
     ]
    }
   ],
   "source": [
    "print(\"The best parameters are %s with a score of %0.2f\"\n",
    "      % (clf.best_params_, clf.best_score_))"
   ]
  },
  {
   "cell_type": "code",
   "execution_count": 7,
   "metadata": {},
   "outputs": [],
   "source": [
    "# predicting for test dataset\n",
    "y_pred = clf.predict(X_test)"
   ]
  },
  {
   "cell_type": "code",
   "execution_count": 8,
   "metadata": {},
   "outputs": [
    {
     "data": {
      "text/plain": [
       "0.9259259259259259"
      ]
     },
     "execution_count": 8,
     "metadata": {},
     "output_type": "execute_result"
    }
   ],
   "source": [
    "# predicting the accuracy score\n",
    "clf.score(X_test,y_test)"
   ]
  },
  {
   "cell_type": "code",
   "execution_count": null,
   "metadata": {},
   "outputs": [],
   "source": []
  },
  {
   "cell_type": "markdown",
   "metadata": {},
   "source": [
    "<b>iii. (2 points) Write a Text section in a separate text block describing what you have done and why.</b>"
   ]
  },
  {
   "cell_type": "markdown",
   "metadata": {},
   "source": [
    "The Whole process is divided into five parts:-\n",
    "<br><br>\n",
    "<b>1) Loading the Data</b>\n",
    "Fist i stored the path of each folder in an array. Then saved the name of these folders in an array because that defines the category of the data. Then enumerating within the folders to store the images by outputting the values in three arrays, first category in which the image belong, second, the conversion of image into numpy array and third is the flattening of the image array into 1 D. Then i converted all formed arrays into numpy arrays and stored all of them in a Bunch.\n",
    "<br>\n",
    "<br>\n",
    "<b>2) Splitting the Data</b>\n",
    "with the help of train test split method i splitted the data into train and test part with test size of 0.3.\n",
    "<br>\n",
    "<br>\n",
    "<b>3) Tuning Hyperparameters and Training the model</b>\n",
    "Created a parameter grid from which GridSearcgCV will find the best hyperparameters for the model and training the model over these hyperparameters. Then, i also printed what are the best parameters and best score for the model.\n",
    "<br>\n",
    "<br>\n",
    "<b>4) Predicting over test Data</b>\n",
    "predicting the values for test data we created in step 2.\n",
    "<br><br>\n",
    "<b>5) Finding Accuracy</b>\n",
    "Printing the accuracy for the test data"
   ]
  },
  {
   "cell_type": "code",
   "execution_count": null,
   "metadata": {},
   "outputs": [],
   "source": []
  },
  {
   "cell_type": "markdown",
   "metadata": {},
   "source": [
    "<b>iv. (1 point) Generate a figure containing the misclassified images and write down your observations in the\n",
    "text block regarding why these images were misclassified.</b>"
   ]
  },
  {
   "cell_type": "code",
   "execution_count": 9,
   "metadata": {},
   "outputs": [
    {
     "data": {
      "text/plain": [
       "array([[ 6,  0,  2],\n",
       "       [ 0, 25,  0],\n",
       "       [ 1,  1, 19]], dtype=int64)"
      ]
     },
     "execution_count": 9,
     "metadata": {},
     "output_type": "execute_result"
    }
   ],
   "source": [
    "# showing confusion matrix for the test data\n",
    "metrics.confusion_matrix(y_test,y_pred)"
   ]
  },
  {
   "cell_type": "code",
   "execution_count": 10,
   "metadata": {},
   "outputs": [
    {
     "name": "stdout",
     "output_type": "stream",
     "text": [
      "[12, 40, 45, 50]\n"
     ]
    }
   ],
   "source": [
    "# finding which indexes are not predicted correctly\n",
    "\n",
    "# this will store all the mismatched  indices\n",
    "index=[]\n",
    "\n",
    "# which will count the indices number\n",
    "c=0\n",
    "\n",
    "# checking for corresponding values in actual and predicted one\n",
    "for i,j in zip(y_test,y_pred):\n",
    "    if i!=j:\n",
    "        index.append(c)\n",
    "    c+=1\n",
    "print(index)"
   ]
  },
  {
   "cell_type": "code",
   "execution_count": 11,
   "metadata": {},
   "outputs": [
    {
     "data": {
      "image/png": "[encoded data removed]",
      "text/plain": [
       "<Figure size 432x288 with 4 Axes>"
      ]
     },
     "metadata": {
      "needs_background": "light"
     },
     "output_type": "display_data"
    }
   ],
   "source": [
    "# plotting all  images in one figure\n",
    "fig=plt.figure()\n",
    "\n",
    "# creating subplot\n",
    "ax=fig.add_subplot(1,4,1)\n",
    "# showing image\n",
    "plt.imshow(dataset['images'][12])\n",
    "\n",
    "# creating subplot\n",
    "ax=fig.add_subplot(1,4,2)\n",
    "# showing image\n",
    "plt.imshow(dataset['images'][40])\n",
    "\n",
    "# creating subplot\n",
    "ax=fig.add_subplot(1,4,3)\n",
    "# showing image\n",
    "plt.imshow(dataset['images'][45])\n",
    "\n",
    "# creating subplot\n",
    "ax=fig.add_subplot(1,4,4)\n",
    "# showing image\n",
    "plt.imshow(dataset['images'][50])\n",
    "plt.show()"
   ]
  },
  {
   "cell_type": "markdown",
   "metadata": {},
   "source": [
    "<b>OBSERVATIONS :-</b>\n",
    "<br><br>\n",
    "With the help of confusion matrix we can easily see that 4 images are not matched correctly as non diagonal values sum is equal to 4. The reason for classification is the pixel difference between the images you can see there are white spots in the images due to which these images are not classified properly."
   ]
  },
  {
   "cell_type": "code",
   "execution_count": null,
   "metadata": {},
   "outputs": [],
   "source": []
  },
  {
   "cell_type": "code",
   "execution_count": null,
   "metadata": {},
   "outputs": [],
   "source": []
  },
  {
   "cell_type": "markdown",
   "metadata": {},
   "source": [
    "# 2. Multivariate Time Series Forecasting"
   ]
  },
  {
   "cell_type": "markdown",
   "metadata": {},
   "source": [
    "<b>(a) Task: You are provided with a Multivariate time series data containing observations for 400 timestamps.\n",
    "Each column in data file corresponds to one timestamp with 5 observations (corresponding to 5 variables/dimensions). Read this multivariate time series data and predict the future possible observations for\n",
    "100 timestamps, using any of the suitable machine learning model you have learnt in this machine learning\n",
    "course. Evaluation scheme will be as follows:<br>"
   ]
  },
  {
   "cell_type": "markdown",
   "metadata": {},
   "source": [
    "<b>i. (1.5 point) Correct code which we will be able to run (do not include code parts which are not relevant\n",
    "for the task).</b>"
   ]
  },
  {
   "cell_type": "code",
   "execution_count": 12,
   "metadata": {},
   "outputs": [
    {
     "data": {
      "text/html": [
       "<div>\n",
       "<style scoped>\n",
       "    .dataframe tbody tr th:only-of-type {\n",
       "        vertical-align: middle;\n",
       "    }\n",
       "\n",
       "    .dataframe tbody tr th {\n",
       "        vertical-align: top;\n",
       "    }\n",
       "\n",
       "    .dataframe thead th {\n",
       "        text-align: right;\n",
       "    }\n",
       "</style>\n",
       "<table border=\"1\" class=\"dataframe\">\n",
       "  <thead>\n",
       "    <tr style=\"text-align: right;\">\n",
       "      <th></th>\n",
       "      <th>0</th>\n",
       "      <th>1</th>\n",
       "      <th>2</th>\n",
       "      <th>3</th>\n",
       "      <th>4</th>\n",
       "      <th>5</th>\n",
       "      <th>6</th>\n",
       "      <th>7</th>\n",
       "      <th>8</th>\n",
       "      <th>9</th>\n",
       "      <th>...</th>\n",
       "      <th>390</th>\n",
       "      <th>391</th>\n",
       "      <th>392</th>\n",
       "      <th>393</th>\n",
       "      <th>394</th>\n",
       "      <th>395</th>\n",
       "      <th>396</th>\n",
       "      <th>397</th>\n",
       "      <th>398</th>\n",
       "      <th>399</th>\n",
       "    </tr>\n",
       "  </thead>\n",
       "  <tbody>\n",
       "    <tr>\n",
       "      <th>0</th>\n",
       "      <td>5.02660</td>\n",
       "      <td>1.1865</td>\n",
       "      <td>1.5958</td>\n",
       "      <td>-3.10860</td>\n",
       "      <td>-2.0905</td>\n",
       "      <td>-0.91498</td>\n",
       "      <td>-1.94710</td>\n",
       "      <td>0.15966</td>\n",
       "      <td>2.14240</td>\n",
       "      <td>0.056887</td>\n",
       "      <td>...</td>\n",
       "      <td>-8.0035</td>\n",
       "      <td>-8.1098</td>\n",
       "      <td>-8.5255</td>\n",
       "      <td>-7.8608</td>\n",
       "      <td>-7.7246</td>\n",
       "      <td>-9.1607</td>\n",
       "      <td>-6.8131</td>\n",
       "      <td>-6.1857</td>\n",
       "      <td>-7.3530</td>\n",
       "      <td>-8.5236</td>\n",
       "    </tr>\n",
       "    <tr>\n",
       "      <th>1</th>\n",
       "      <td>0.10983</td>\n",
       "      <td>4.2070</td>\n",
       "      <td>2.6693</td>\n",
       "      <td>-0.64083</td>\n",
       "      <td>-3.5149</td>\n",
       "      <td>-1.63800</td>\n",
       "      <td>1.76190</td>\n",
       "      <td>3.39830</td>\n",
       "      <td>4.71010</td>\n",
       "      <td>4.372700</td>\n",
       "      <td>...</td>\n",
       "      <td>7.5324</td>\n",
       "      <td>6.0191</td>\n",
       "      <td>4.6289</td>\n",
       "      <td>4.4797</td>\n",
       "      <td>5.9191</td>\n",
       "      <td>7.1107</td>\n",
       "      <td>7.1490</td>\n",
       "      <td>9.4892</td>\n",
       "      <td>7.7197</td>\n",
       "      <td>8.3973</td>\n",
       "    </tr>\n",
       "    <tr>\n",
       "      <th>2</th>\n",
       "      <td>-1.60530</td>\n",
       "      <td>-2.7818</td>\n",
       "      <td>4.2074</td>\n",
       "      <td>0.93778</td>\n",
       "      <td>2.2189</td>\n",
       "      <td>-0.71185</td>\n",
       "      <td>-0.55037</td>\n",
       "      <td>1.76030</td>\n",
       "      <td>2.12600</td>\n",
       "      <td>2.449500</td>\n",
       "      <td>...</td>\n",
       "      <td>18.3750</td>\n",
       "      <td>16.3030</td>\n",
       "      <td>17.9720</td>\n",
       "      <td>16.6840</td>\n",
       "      <td>16.4000</td>\n",
       "      <td>15.2720</td>\n",
       "      <td>16.5030</td>\n",
       "      <td>16.9020</td>\n",
       "      <td>17.4670</td>\n",
       "      <td>19.1400</td>\n",
       "    </tr>\n",
       "    <tr>\n",
       "      <th>3</th>\n",
       "      <td>-0.77477</td>\n",
       "      <td>1.5173</td>\n",
       "      <td>1.3041</td>\n",
       "      <td>-0.58611</td>\n",
       "      <td>-2.8555</td>\n",
       "      <td>-1.51640</td>\n",
       "      <td>-2.02340</td>\n",
       "      <td>-0.67315</td>\n",
       "      <td>0.72057</td>\n",
       "      <td>1.296400</td>\n",
       "      <td>...</td>\n",
       "      <td>-7.1182</td>\n",
       "      <td>-6.4652</td>\n",
       "      <td>-8.5818</td>\n",
       "      <td>-10.4780</td>\n",
       "      <td>-10.1730</td>\n",
       "      <td>-8.1731</td>\n",
       "      <td>-9.1686</td>\n",
       "      <td>-6.6100</td>\n",
       "      <td>-6.9066</td>\n",
       "      <td>-7.5819</td>\n",
       "    </tr>\n",
       "    <tr>\n",
       "      <th>4</th>\n",
       "      <td>-0.68364</td>\n",
       "      <td>4.9704</td>\n",
       "      <td>-2.8531</td>\n",
       "      <td>-2.53620</td>\n",
       "      <td>-2.3146</td>\n",
       "      <td>-1.85110</td>\n",
       "      <td>-2.33510</td>\n",
       "      <td>-1.05430</td>\n",
       "      <td>-1.34160</td>\n",
       "      <td>-4.588200</td>\n",
       "      <td>...</td>\n",
       "      <td>-21.9440</td>\n",
       "      <td>-23.3420</td>\n",
       "      <td>-23.4890</td>\n",
       "      <td>-25.7040</td>\n",
       "      <td>-23.1260</td>\n",
       "      <td>-20.5420</td>\n",
       "      <td>-23.2400</td>\n",
       "      <td>-23.4830</td>\n",
       "      <td>-24.8770</td>\n",
       "      <td>-24.7950</td>\n",
       "    </tr>\n",
       "  </tbody>\n",
       "</table>\n",
       "<p>5 rows × 400 columns</p>\n",
       "</div>"
      ],
      "text/plain": [
       "       0       1       2        3       4        5        6        7    \\\n",
       "0  5.02660  1.1865  1.5958 -3.10860 -2.0905 -0.91498 -1.94710  0.15966   \n",
       "1  0.10983  4.2070  2.6693 -0.64083 -3.5149 -1.63800  1.76190  3.39830   \n",
       "2 -1.60530 -2.7818  4.2074  0.93778  2.2189 -0.71185 -0.55037  1.76030   \n",
       "3 -0.77477  1.5173  1.3041 -0.58611 -2.8555 -1.51640 -2.02340 -0.67315   \n",
       "4 -0.68364  4.9704 -2.8531 -2.53620 -2.3146 -1.85110 -2.33510 -1.05430   \n",
       "\n",
       "       8         9    ...      390      391      392      393      394  \\\n",
       "0  2.14240  0.056887  ...  -8.0035  -8.1098  -8.5255  -7.8608  -7.7246   \n",
       "1  4.71010  4.372700  ...   7.5324   6.0191   4.6289   4.4797   5.9191   \n",
       "2  2.12600  2.449500  ...  18.3750  16.3030  17.9720  16.6840  16.4000   \n",
       "3  0.72057  1.296400  ...  -7.1182  -6.4652  -8.5818 -10.4780 -10.1730   \n",
       "4 -1.34160 -4.588200  ... -21.9440 -23.3420 -23.4890 -25.7040 -23.1260   \n",
       "\n",
       "       395      396      397      398      399  \n",
       "0  -9.1607  -6.8131  -6.1857  -7.3530  -8.5236  \n",
       "1   7.1107   7.1490   9.4892   7.7197   8.3973  \n",
       "2  15.2720  16.5030  16.9020  17.4670  19.1400  \n",
       "3  -8.1731  -9.1686  -6.6100  -6.9066  -7.5819  \n",
       "4 -20.5420 -23.2400 -23.4830 -24.8770 -24.7950  \n",
       "\n",
       "[5 rows x 400 columns]"
      ]
     },
     "execution_count": 12,
     "metadata": {},
     "output_type": "execute_result"
    }
   ],
   "source": [
    "# reading the dataset\n",
    "df=pd.read_csv('Timeseriesdata.csv',header=None)\n",
    "df.head()"
   ]
  },
  {
   "cell_type": "code",
   "execution_count": 13,
   "metadata": {},
   "outputs": [
    {
     "data": {
      "text/html": [
       "<div>\n",
       "<style scoped>\n",
       "    .dataframe tbody tr th:only-of-type {\n",
       "        vertical-align: middle;\n",
       "    }\n",
       "\n",
       "    .dataframe tbody tr th {\n",
       "        vertical-align: top;\n",
       "    }\n",
       "\n",
       "    .dataframe thead th {\n",
       "        text-align: right;\n",
       "    }\n",
       "</style>\n",
       "<table border=\"1\" class=\"dataframe\">\n",
       "  <thead>\n",
       "    <tr style=\"text-align: right;\">\n",
       "      <th></th>\n",
       "      <th>0</th>\n",
       "      <th>1</th>\n",
       "      <th>2</th>\n",
       "      <th>3</th>\n",
       "      <th>4</th>\n",
       "    </tr>\n",
       "  </thead>\n",
       "  <tbody>\n",
       "    <tr>\n",
       "      <th>0</th>\n",
       "      <td>5.0266</td>\n",
       "      <td>0.10983</td>\n",
       "      <td>-1.60530</td>\n",
       "      <td>-0.77477</td>\n",
       "      <td>-0.68364</td>\n",
       "    </tr>\n",
       "    <tr>\n",
       "      <th>1</th>\n",
       "      <td>1.1865</td>\n",
       "      <td>4.20700</td>\n",
       "      <td>-2.78180</td>\n",
       "      <td>1.51730</td>\n",
       "      <td>4.97040</td>\n",
       "    </tr>\n",
       "    <tr>\n",
       "      <th>2</th>\n",
       "      <td>1.5958</td>\n",
       "      <td>2.66930</td>\n",
       "      <td>4.20740</td>\n",
       "      <td>1.30410</td>\n",
       "      <td>-2.85310</td>\n",
       "    </tr>\n",
       "    <tr>\n",
       "      <th>3</th>\n",
       "      <td>-3.1086</td>\n",
       "      <td>-0.64083</td>\n",
       "      <td>0.93778</td>\n",
       "      <td>-0.58611</td>\n",
       "      <td>-2.53620</td>\n",
       "    </tr>\n",
       "    <tr>\n",
       "      <th>4</th>\n",
       "      <td>-2.0905</td>\n",
       "      <td>-3.51490</td>\n",
       "      <td>2.21890</td>\n",
       "      <td>-2.85550</td>\n",
       "      <td>-2.31460</td>\n",
       "    </tr>\n",
       "  </tbody>\n",
       "</table>\n",
       "</div>"
      ],
      "text/plain": [
       "        0        1        2        3        4\n",
       "0  5.0266  0.10983 -1.60530 -0.77477 -0.68364\n",
       "1  1.1865  4.20700 -2.78180  1.51730  4.97040\n",
       "2  1.5958  2.66930  4.20740  1.30410 -2.85310\n",
       "3 -3.1086 -0.64083  0.93778 -0.58611 -2.53620\n",
       "4 -2.0905 -3.51490  2.21890 -2.85550 -2.31460"
      ]
     },
     "execution_count": 13,
     "metadata": {},
     "output_type": "execute_result"
    }
   ],
   "source": [
    "# transposing the dataset\n",
    "df=df.T\n",
    "df.head()"
   ]
  },
  {
   "cell_type": "code",
   "execution_count": 14,
   "metadata": {},
   "outputs": [
    {
     "data": {
      "text/plain": [
       "<matplotlib.legend.Legend at 0x2b6747700a0>"
      ]
     },
     "execution_count": 14,
     "metadata": {},
     "output_type": "execute_result"
    },
    {
     "data": {
      "image/png": "[encoded data removed]",
      "text/plain": [
       "<Figure size 432x288 with 1 Axes>"
      ]
     },
     "metadata": {
      "needs_background": "light"
     },
     "output_type": "display_data"
    }
   ],
   "source": [
    "# plotting the data to see the trend\n",
    "df.plot(kind='line')\n",
    "plt.legend(loc='upper right',bbox_to_anchor = (1.2, 1))"
   ]
  },
  {
   "cell_type": "code",
   "execution_count": null,
   "metadata": {},
   "outputs": [],
   "source": []
  },
  {
   "cell_type": "code",
   "execution_count": 15,
   "metadata": {},
   "outputs": [],
   "source": [
    "# taking last 100 obervations for test and rest for train\n",
    "n_obs=5\n",
    "df_train,df_test=df[:-n_obs],df[-n_obs:]"
   ]
  },
  {
   "cell_type": "code",
   "execution_count": 16,
   "metadata": {},
   "outputs": [
    {
     "name": "stdout",
     "output_type": "stream",
     "text": [
      "----------------------------------------\n",
      "Test Statistic           -1.058673\n",
      "p-value                   0.731268\n",
      "# Lags                   15.000000\n",
      "# Observations          379.000000\n",
      "Critical Value (1%)      -3.447722\n",
      "Critical Value (5%)      -2.869196\n",
      "Critical Value (10%)     -2.570849\n",
      "dtype: float64\n",
      " Series is Non-Stationary\n",
      "----------------------------------------\n",
      "Test Statistic           -0.091824\n",
      "p-value                   0.950247\n",
      "# Lags                   16.000000\n",
      "# Observations          378.000000\n",
      "Critical Value (1%)      -3.447769\n",
      "Critical Value (5%)      -2.869217\n",
      "Critical Value (10%)     -2.570860\n",
      "dtype: float64\n",
      " Series is Non-Stationary\n",
      "----------------------------------------\n",
      "Test Statistic           -0.763385\n",
      "p-value                   0.829642\n",
      "# Lags                   13.000000\n",
      "# Observations          381.000000\n",
      "Critical Value (1%)      -3.447631\n",
      "Critical Value (5%)      -2.869156\n",
      "Critical Value (10%)     -2.570827\n",
      "dtype: float64\n",
      " Series is Non-Stationary\n",
      "----------------------------------------\n",
      "Test Statistic           -0.931985\n",
      "p-value                   0.777257\n",
      "# Lags                   15.000000\n",
      "# Observations          379.000000\n",
      "Critical Value (1%)      -3.447722\n",
      "Critical Value (5%)      -2.869196\n",
      "Critical Value (10%)     -2.570849\n",
      "dtype: float64\n",
      " Series is Non-Stationary\n",
      "----------------------------------------\n",
      "Test Statistic           -1.188927\n",
      "p-value                   0.678341\n",
      "# Lags                   17.000000\n",
      "# Observations          377.000000\n",
      "Critical Value (1%)      -3.447815\n",
      "Critical Value (5%)      -2.869237\n",
      "Critical Value (10%)     -2.570870\n",
      "dtype: float64\n",
      " Series is Non-Stationary\n"
     ]
    }
   ],
   "source": [
    "from statsmodels.tsa.stattools import adfuller\n",
    "\n",
    "# performing Augumented Dickey Fuller test for checking is fata have non stationary series or not\n",
    "# if present we have to remove with differencing\n",
    "\n",
    "# defining the function which take time series\n",
    "def adf_test(timeSeries, signif=0.05):\n",
    "    print(\"-\"*40)\n",
    "    \n",
    "    # adf mainly depends on five parameters which are namely test statistic, p-value,no of lags used,numer of observations,critical values\n",
    "    dftest = adfuller(timeSeries, autolag='AIC')\n",
    "    adf = pd.Series(dftest[0:4], index=['Test Statistic','p-value','# Lags','# Observations'])\n",
    "    \n",
    "    # printing the critical values at 1%, 5% and 10%\n",
    "    for key,value in dftest[4].items():\n",
    "        adf['Critical Value (%s)'%key] = value\n",
    "    print (adf)\n",
    "    \n",
    "    # printing is series is stationary or not\n",
    "    p = adf['p-value']\n",
    "    if p <= signif:\n",
    "        print(\" Series is Stationary\")\n",
    "    else:\n",
    "        print(\" Series is Non-Stationary\")\n",
    "\n",
    "        \n",
    "#apply adf test on the all series\n",
    "adf_test(df_train[0])\n",
    "adf_test(df_train[1])\n",
    "adf_test(df_train[2])\n",
    "adf_test(df_train[3])\n",
    "adf_test(df_train[4])"
   ]
  },
  {
   "cell_type": "code",
   "execution_count": 17,
   "metadata": {},
   "outputs": [
    {
     "name": "stdout",
     "output_type": "stream",
     "text": [
      "----------------------------------------\n",
      "Test Statistic           -5.235252\n",
      "p-value                   0.000007\n",
      "# Lags                   16.000000\n",
      "# Observations          377.000000\n",
      "Critical Value (1%)      -3.447815\n",
      "Critical Value (5%)      -2.869237\n",
      "Critical Value (10%)     -2.570870\n",
      "dtype: float64\n",
      " Series is Stationary\n",
      "----------------------------------------\n",
      "Test Statistic         -7.954528e+00\n",
      "p-value                 3.062458e-12\n",
      "# Lags                  1.500000e+01\n",
      "# Observations          3.780000e+02\n",
      "Critical Value (1%)    -3.447769e+00\n",
      "Critical Value (5%)    -2.869217e+00\n",
      "Critical Value (10%)   -2.570860e+00\n",
      "dtype: float64\n",
      " Series is Stationary\n",
      "----------------------------------------\n",
      "Test Statistic           -3.287922\n",
      "p-value                   0.015427\n",
      "# Lags                   12.000000\n",
      "# Observations          381.000000\n",
      "Critical Value (1%)      -3.447631\n",
      "Critical Value (5%)      -2.869156\n",
      "Critical Value (10%)     -2.570827\n",
      "dtype: float64\n",
      " Series is Stationary\n",
      "----------------------------------------\n",
      "Test Statistic           -5.128669\n",
      "p-value                   0.000012\n",
      "# Lags                   14.000000\n",
      "# Observations          379.000000\n",
      "Critical Value (1%)      -3.447722\n",
      "Critical Value (5%)      -2.869196\n",
      "Critical Value (10%)     -2.570849\n",
      "dtype: float64\n",
      " Series is Stationary\n",
      "----------------------------------------\n",
      "Test Statistic           -2.428562\n",
      "p-value                   0.133837\n",
      "# Lags                   16.000000\n",
      "# Observations          377.000000\n",
      "Critical Value (1%)      -3.447815\n",
      "Critical Value (5%)      -2.869237\n",
      "Critical Value (10%)     -2.570870\n",
      "dtype: float64\n",
      " Series is Non-Stationary\n"
     ]
    }
   ],
   "source": [
    "# from the above output we can see there are non stationary series\n",
    "# we have to convert them into stationary series so we will differencing the series\n",
    "\n",
    "# STATIONARY SERIES IS ONE IN WHICH MEAN AND VARIANCE DON'T CHANGE WITH TIME\n",
    "\n",
    "df_differenced = df_train.diff().dropna()\n",
    "\n",
    "# running adf test again to check for non stationary points\n",
    "adf_test(df_differenced[0])\n",
    "adf_test(df_differenced[1])\n",
    "adf_test(df_differenced[2])\n",
    "adf_test(df_differenced[3])\n",
    "adf_test(df_differenced[4])"
   ]
  },
  {
   "cell_type": "code",
   "execution_count": 18,
   "metadata": {},
   "outputs": [
    {
     "name": "stdout",
     "output_type": "stream",
     "text": [
      "----------------------------------------\n",
      "Test Statistic         -9.213707e+00\n",
      "p-value                 1.858099e-15\n",
      "# Lags                  1.700000e+01\n",
      "# Observations          3.750000e+02\n",
      "Critical Value (1%)    -3.447909e+00\n",
      "Critical Value (5%)    -2.869278e+00\n",
      "Critical Value (10%)   -2.570892e+00\n",
      "dtype: float64\n",
      " Series is Stationary\n",
      "----------------------------------------\n",
      "Test Statistic         -1.167761e+01\n",
      "p-value                 1.772602e-21\n",
      "# Lags                  1.700000e+01\n",
      "# Observations          3.750000e+02\n",
      "Critical Value (1%)    -3.447909e+00\n",
      "Critical Value (5%)    -2.869278e+00\n",
      "Critical Value (10%)   -2.570892e+00\n",
      "dtype: float64\n",
      " Series is Stationary\n",
      "----------------------------------------\n",
      "Test Statistic         -9.954508e+00\n",
      "p-value                 2.464516e-17\n",
      "# Lags                  1.700000e+01\n",
      "# Observations          3.750000e+02\n",
      "Critical Value (1%)    -3.447909e+00\n",
      "Critical Value (5%)    -2.869278e+00\n",
      "Critical Value (10%)   -2.570892e+00\n",
      "dtype: float64\n",
      " Series is Stationary\n",
      "----------------------------------------\n",
      "Test Statistic         -1.009196e+01\n",
      "p-value                 1.116071e-17\n",
      "# Lags                  1.700000e+01\n",
      "# Observations          3.750000e+02\n",
      "Critical Value (1%)    -3.447909e+00\n",
      "Critical Value (5%)    -2.869278e+00\n",
      "Critical Value (10%)   -2.570892e+00\n",
      "dtype: float64\n",
      " Series is Stationary\n",
      "----------------------------------------\n",
      "Test Statistic         -1.299313e+01\n",
      "p-value                 2.785555e-24\n",
      "# Lags                  1.200000e+01\n",
      "# Observations          3.800000e+02\n",
      "Critical Value (1%)    -3.447676e+00\n",
      "Critical Value (5%)    -2.869176e+00\n",
      "Critical Value (10%)   -2.570838e+00\n",
      "dtype: float64\n",
      " Series is Stationary\n"
     ]
    }
   ],
   "source": [
    "# form the above output we can see column 4 still is non stationary series\n",
    "# so we have to perform differencing afafin in order to convert it to stationary\n",
    "df_differenced2=df_differenced.diff().dropna()\n",
    "\n",
    "\n",
    "# running adf test again to check if non stationary points are still there\n",
    "adf_test(df_differenced2[0])\n",
    "adf_test(df_differenced2[1])\n",
    "adf_test(df_differenced2[2])\n",
    "adf_test(df_differenced2[3])\n",
    "adf_test(df_differenced2[4])"
   ]
  },
  {
   "cell_type": "code",
   "execution_count": 19,
   "metadata": {},
   "outputs": [
    {
     "data": {
      "text/plain": [
       "<AxesSubplot:>"
      ]
     },
     "execution_count": 19,
     "metadata": {},
     "output_type": "execute_result"
    },
    {
     "data": {
      "image/png": "[encoded data removed]",
      "text/plain": [
       "<Figure size 432x288 with 1 Axes>"
      ]
     },
     "metadata": {
      "needs_background": "light"
     },
     "output_type": "display_data"
    }
   ],
   "source": [
    "# from the above output we can see the there are no non stationaryy series left\n",
    "\n",
    "# now let's see how our data is looking\n",
    "df_differenced2.plot(kind='line')"
   ]
  },
  {
   "cell_type": "code",
   "execution_count": 20,
   "metadata": {},
   "outputs": [
    {
     "name": "stderr",
     "output_type": "stream",
     "text": [
      "c:\\users\\abhichal\\appdata\\local\\programs\\python\\python38\\lib\\site-packages\\statsmodels\\tsa\\base\\tsa_model.py:578: ValueWarning: An unsupported index was provided and will be ignored when e.g. forecasting.\n",
      "  warnings.warn('An unsupported index was provided and will be'\n"
     ]
    }
   ],
   "source": [
    "# importing VAR model\n",
    "from statsmodels.tsa.api import VAR\n",
    "\n",
    "# intitalizing the model on differenced data\n",
    "model=VAR(df_differenced2)"
   ]
  },
  {
   "cell_type": "code",
   "execution_count": 21,
   "metadata": {},
   "outputs": [
    {
     "name": "stdout",
     "output_type": "stream",
     "text": [
      "Lag Order :-  13\n"
     ]
    }
   ],
   "source": [
    "# finding the optimum value of Lag order out of 100 lag values\n",
    "maxi=float('inf')\n",
    "arr=[i for i in range(1,101)]\n",
    "for i in arr:\n",
    "    result = model.fit(i)\n",
    "    if result.aic>maxi:\n",
    "        print('Lag Order :- ',i-1)\n",
    "        break\n",
    "    else:\n",
    "        maxi=result.aic"
   ]
  },
  {
   "cell_type": "code",
   "execution_count": 22,
   "metadata": {},
   "outputs": [
    {
     "name": "stderr",
     "output_type": "stream",
     "text": [
      "c:\\users\\abhichal\\appdata\\local\\programs\\python\\python38\\lib\\site-packages\\statsmodels\\tsa\\base\\tsa_model.py:578: ValueWarning: An unsupported index was provided and will be ignored when e.g. forecasting.\n",
      "  warnings.warn('An unsupported index was provided and will be'\n"
     ]
    }
   ],
   "source": [
    "# intializing the model\n",
    "model=VAR(df_differenced2)\n",
    "\n",
    "# training the model with optimized lag order\n",
    "result=model.fit(maxlags=13,ic='aic')\n"
   ]
  },
  {
   "cell_type": "code",
   "execution_count": 23,
   "metadata": {},
   "outputs": [
    {
     "data": {
      "text/plain": [
       "13"
      ]
     },
     "execution_count": 23,
     "metadata": {},
     "output_type": "execute_result"
    }
   ],
   "source": [
    "#storing the lag_order in a variable\n",
    "lag_order=result.k_ar\n",
    "lag_order"
   ]
  },
  {
   "cell_type": "code",
   "execution_count": 24,
   "metadata": {},
   "outputs": [
    {
     "data": {
      "text/html": [
       "<div>\n",
       "<style scoped>\n",
       "    .dataframe tbody tr th:only-of-type {\n",
       "        vertical-align: middle;\n",
       "    }\n",
       "\n",
       "    .dataframe tbody tr th {\n",
       "        vertical-align: top;\n",
       "    }\n",
       "\n",
       "    .dataframe thead th {\n",
       "        text-align: right;\n",
       "    }\n",
       "</style>\n",
       "<table border=\"1\" class=\"dataframe\">\n",
       "  <thead>\n",
       "    <tr style=\"text-align: right;\">\n",
       "      <th></th>\n",
       "      <th>0</th>\n",
       "      <th>1</th>\n",
       "      <th>2</th>\n",
       "      <th>3</th>\n",
       "      <th>4</th>\n",
       "    </tr>\n",
       "  </thead>\n",
       "  <tbody>\n",
       "    <tr>\n",
       "      <th>395</th>\n",
       "      <td>-0.214329</td>\n",
       "      <td>-0.147422</td>\n",
       "      <td>0.982339</td>\n",
       "      <td>0.809991</td>\n",
       "      <td>-3.974220</td>\n",
       "    </tr>\n",
       "    <tr>\n",
       "      <th>396</th>\n",
       "      <td>1.615374</td>\n",
       "      <td>-1.069359</td>\n",
       "      <td>0.506479</td>\n",
       "      <td>0.367822</td>\n",
       "      <td>2.133423</td>\n",
       "    </tr>\n",
       "    <tr>\n",
       "      <th>397</th>\n",
       "      <td>-1.770194</td>\n",
       "      <td>0.955451</td>\n",
       "      <td>-0.496322</td>\n",
       "      <td>-1.407233</td>\n",
       "      <td>-1.853036</td>\n",
       "    </tr>\n",
       "    <tr>\n",
       "      <th>398</th>\n",
       "      <td>0.588174</td>\n",
       "      <td>-1.504842</td>\n",
       "      <td>-0.052183</td>\n",
       "      <td>-0.128232</td>\n",
       "      <td>0.927017</td>\n",
       "    </tr>\n",
       "    <tr>\n",
       "      <th>399</th>\n",
       "      <td>-1.361492</td>\n",
       "      <td>-0.750104</td>\n",
       "      <td>0.066870</td>\n",
       "      <td>-0.977645</td>\n",
       "      <td>-0.827783</td>\n",
       "    </tr>\n",
       "  </tbody>\n",
       "</table>\n",
       "</div>"
      ],
      "text/plain": [
       "            0         1         2         3         4\n",
       "395 -0.214329 -0.147422  0.982339  0.809991 -3.974220\n",
       "396  1.615374 -1.069359  0.506479  0.367822  2.133423\n",
       "397 -1.770194  0.955451 -0.496322 -1.407233 -1.853036\n",
       "398  0.588174 -1.504842 -0.052183 -0.128232  0.927017\n",
       "399 -1.361492 -0.750104  0.066870 -0.977645 -0.827783"
      ]
     },
     "execution_count": 24,
     "metadata": {},
     "output_type": "execute_result"
    }
   ],
   "source": [
    "# forecasting the result for the test data created above using the differenced data\n",
    "predicted=result.forecast(df_differenced2.values[-lag_order:],n_obs)\n",
    "\n",
    "# storinng the result in a dataframe\n",
    "forecast = pd.DataFrame(predicted, index = df.index[-n_obs:], columns = df.columns)\n",
    "forecast.head()"
   ]
  },
  {
   "cell_type": "code",
   "execution_count": 25,
   "metadata": {},
   "outputs": [],
   "source": [
    "# we have forecasted using the diffferenced data but we have to convert that to normal data\n",
    "# so we will invert the ttransformation\n",
    "\n",
    "# defining the function for inverting transformation\n",
    "def inverting_transform(df,forecast,diff_2):\n",
    "    # for all columns in dataframe\n",
    "    for col in df.columns:\n",
    "        \n",
    "        # if data is 2 differenced\n",
    "        if diff_2:\n",
    "            # invert back to 1 differenced \n",
    "            forecast[col]=(df[col].iloc[-1] - df[col].iloc[-2]) + forecast[col].cumsum()\n",
    "        \n",
    "        # converting 1 differenced to normal data\n",
    "        forecast[col]=df[col].iloc[-1] + forecast[col].cumsum()\n",
    "    \n",
    "    # returning the normal data\n",
    "    return forecast"
   ]
  },
  {
   "cell_type": "code",
   "execution_count": 26,
   "metadata": {},
   "outputs": [
    {
     "data": {
      "text/html": [
       "<div>\n",
       "<style scoped>\n",
       "    .dataframe tbody tr th:only-of-type {\n",
       "        vertical-align: middle;\n",
       "    }\n",
       "\n",
       "    .dataframe tbody tr th {\n",
       "        vertical-align: top;\n",
       "    }\n",
       "\n",
       "    .dataframe thead th {\n",
       "        text-align: right;\n",
       "    }\n",
       "</style>\n",
       "<table border=\"1\" class=\"dataframe\">\n",
       "  <thead>\n",
       "    <tr style=\"text-align: right;\">\n",
       "      <th></th>\n",
       "      <th>0</th>\n",
       "      <th>1</th>\n",
       "      <th>2</th>\n",
       "      <th>3</th>\n",
       "      <th>4</th>\n",
       "    </tr>\n",
       "  </thead>\n",
       "  <tbody>\n",
       "    <tr>\n",
       "      <th>395</th>\n",
       "      <td>-7.802729</td>\n",
       "      <td>7.211078</td>\n",
       "      <td>17.098339</td>\n",
       "      <td>-9.058009</td>\n",
       "      <td>-24.522220</td>\n",
       "    </tr>\n",
       "    <tr>\n",
       "      <th>396</th>\n",
       "      <td>-6.265483</td>\n",
       "      <td>7.433697</td>\n",
       "      <td>18.303156</td>\n",
       "      <td>-7.575197</td>\n",
       "      <td>-23.785018</td>\n",
       "    </tr>\n",
       "    <tr>\n",
       "      <th>397</th>\n",
       "      <td>-6.498432</td>\n",
       "      <td>8.611767</td>\n",
       "      <td>19.011652</td>\n",
       "      <td>-7.499618</td>\n",
       "      <td>-24.900850</td>\n",
       "    </tr>\n",
       "    <tr>\n",
       "      <th>398</th>\n",
       "      <td>-6.143206</td>\n",
       "      <td>8.284994</td>\n",
       "      <td>19.667964</td>\n",
       "      <td>-7.552271</td>\n",
       "      <td>-25.089666</td>\n",
       "    </tr>\n",
       "    <tr>\n",
       "      <th>399</th>\n",
       "      <td>-7.149473</td>\n",
       "      <td>7.208117</td>\n",
       "      <td>20.391146</td>\n",
       "      <td>-8.582568</td>\n",
       "      <td>-26.106264</td>\n",
       "    </tr>\n",
       "  </tbody>\n",
       "</table>\n",
       "</div>"
      ],
      "text/plain": [
       "            0         1          2         3          4\n",
       "395 -7.802729  7.211078  17.098339 -9.058009 -24.522220\n",
       "396 -6.265483  7.433697  18.303156 -7.575197 -23.785018\n",
       "397 -6.498432  8.611767  19.011652 -7.499618 -24.900850\n",
       "398 -6.143206  8.284994  19.667964 -7.552271 -25.089666\n",
       "399 -7.149473  7.208117  20.391146 -8.582568 -26.106264"
      ]
     },
     "execution_count": 26,
     "metadata": {},
     "output_type": "execute_result"
    }
   ],
   "source": [
    "# forcasted values after applying invert transformation method\n",
    "forcasted_values=inverting_transform(df_train,forecast,diff_2=True)\n",
    "forcasted_values.head()"
   ]
  },
  {
   "cell_type": "code",
   "execution_count": 27,
   "metadata": {},
   "outputs": [
    {
     "data": {
      "image/png": "[encoded data removed]",
      "text/plain": [
       "<Figure size 800x800 with 6 Axes>"
      ]
     },
     "metadata": {
      "needs_background": "light"
     },
     "output_type": "display_data"
    }
   ],
   "source": [
    "# SHOWING THE PREDICTED AND ACTUAL VALUES FOR EACH COLUMN\n",
    "\n",
    "fig,axes = plt.subplots(nrows=3,ncols=2,dpi=100,figsize=(8,8))\n",
    "\n",
    "for i,(col,ax) in enumerate(zip(df.columns,axes.flatten())):\n",
    "    forcasted_values[col].plot(color = 'r', legend = True, ax = ax).autoscale(axis =' x',tight = True)\n",
    "    df_test[col].plot(color = 'b', legend = True, ax = ax)\n",
    "    \n",
    "    ax.set_title('Column' + str(col) + ' - Actual vs Forecast')\n",
    "    ax.xaxis.set_ticks_position('none')\n",
    "    ax.yaxis.set_ticks_position('none')\n",
    "\n",
    "    ax.spines[\"top\"].set_alpha(0)\n",
    "    ax.tick_params(labelsize = 6)\n",
    "\n",
    "plt.tight_layout()\n",
    "plt.show()"
   ]
  },
  {
   "cell_type": "code",
   "execution_count": 28,
   "metadata": {},
   "outputs": [
    {
     "name": "stdout",
     "output_type": "stream",
     "text": [
      "MSE for column 0:  1.1187193492251282\n"
     ]
    }
   ],
   "source": [
    "mse1=metrics.mean_squared_error(df_test[0],forcasted_values[0])\n",
    "print('MSE for column 0: ',mse1)"
   ]
  },
  {
   "cell_type": "code",
   "execution_count": 29,
   "metadata": {},
   "outputs": [
    {
     "name": "stdout",
     "output_type": "stream",
     "text": [
      "MSE for column 1:  0.5189459893527173\n"
     ]
    }
   ],
   "source": [
    "mse2=metrics.mean_squared_error(df_test[1],forcasted_values[1])\n",
    "print('MSE for column 1: ',mse2)"
   ]
  },
  {
   "cell_type": "code",
   "execution_count": 30,
   "metadata": {},
   "outputs": [
    {
     "name": "stdout",
     "output_type": "stream",
     "text": [
      "MSE for column 2:  3.4872627939688647\n"
     ]
    }
   ],
   "source": [
    "mse3=metrics.mean_squared_error(df_test[2],forcasted_values[2])\n",
    "print('MSE for column 2: ',mse3)"
   ]
  },
  {
   "cell_type": "code",
   "execution_count": 31,
   "metadata": {},
   "outputs": [
    {
     "name": "stdout",
     "output_type": "stream",
     "text": [
      "MSE for column 3:  1.1063290124067222\n"
     ]
    }
   ],
   "source": [
    "mse4=metrics.mean_squared_error(df_test[3],forcasted_values[3])\n",
    "print('MSE for column 3: ',mse4)"
   ]
  },
  {
   "cell_type": "code",
   "execution_count": 32,
   "metadata": {},
   "outputs": [
    {
     "name": "stdout",
     "output_type": "stream",
     "text": [
      "MSE for column 4:  3.9828275253940526\n"
     ]
    }
   ],
   "source": [
    "mse5=metrics.mean_squared_error(df_test[4],forcasted_values[4])\n",
    "print('MSE for column 4: ',mse5)"
   ]
  },
  {
   "cell_type": "markdown",
   "metadata": {},
   "source": [
    "<b>iv. (1 point) Explain in a text block whether the task is supervised or unsupervised and why?; whether\n",
    "there are any interdependencies among the 5 variables and if yes, then explain which interdependencies\n",
    "you observed; how you chose the best hyperparameter value for the model, the criteria which you have\n",
    "checked for hyperparameter selection.</b>"
   ]
  },
  {
   "cell_type": "code",
   "execution_count": 33,
   "metadata": {},
   "outputs": [
    {
     "name": "stdout",
     "output_type": "stream",
     "text": [
      "----------------------------------------\n",
      "Test Statistic           -0.778079\n",
      "p-value                   0.825476\n",
      "# Lags                   15.000000\n",
      "# Observations          384.000000\n",
      "Critical Value (1%)      -3.447495\n",
      "Critical Value (5%)      -2.869096\n",
      "Critical Value (10%)     -2.570795\n",
      "dtype: float64\n",
      " Series is Non-Stationary\n",
      "----------------------------------------\n",
      "Test Statistic            0.173243\n",
      "p-value                   0.970720\n",
      "# Lags                   16.000000\n",
      "# Observations          383.000000\n",
      "Critical Value (1%)      -3.447540\n",
      "Critical Value (5%)      -2.869116\n",
      "Critical Value (10%)     -2.570806\n",
      "dtype: float64\n",
      " Series is Non-Stationary\n",
      "----------------------------------------\n",
      "Test Statistic           -0.963777\n",
      "p-value                   0.766246\n",
      "# Lags                   13.000000\n",
      "# Observations          386.000000\n",
      "Critical Value (1%)      -3.447405\n",
      "Critical Value (5%)      -2.869057\n",
      "Critical Value (10%)     -2.570774\n",
      "dtype: float64\n",
      " Series is Non-Stationary\n",
      "----------------------------------------\n",
      "Test Statistic           -0.823877\n",
      "p-value                   0.812008\n",
      "# Lags                   15.000000\n",
      "# Observations          384.000000\n",
      "Critical Value (1%)      -3.447495\n",
      "Critical Value (5%)      -2.869096\n",
      "Critical Value (10%)     -2.570795\n",
      "dtype: float64\n",
      " Series is Non-Stationary\n",
      "----------------------------------------\n",
      "Test Statistic           -1.362124\n",
      "p-value                   0.600294\n",
      "# Lags                   17.000000\n",
      "# Observations          382.000000\n",
      "Critical Value (1%)      -3.447585\n",
      "Critical Value (5%)      -2.869136\n",
      "Critical Value (10%)     -2.570816\n",
      "dtype: float64\n",
      " Series is Non-Stationary\n"
     ]
    }
   ],
   "source": [
    "# performing all the same operations which we performed earlier to create this new model\n",
    "\n",
    "adf_test(df[0])\n",
    "adf_test(df[1])\n",
    "adf_test(df[2])\n",
    "adf_test(df[3])\n",
    "adf_test(df[4])"
   ]
  },
  {
   "cell_type": "code",
   "execution_count": 34,
   "metadata": {},
   "outputs": [
    {
     "name": "stdout",
     "output_type": "stream",
     "text": [
      "----------------------------------------\n",
      "Test Statistic           -5.406283\n",
      "p-value                   0.000003\n",
      "# Lags                   14.000000\n",
      "# Observations          384.000000\n",
      "Critical Value (1%)      -3.447495\n",
      "Critical Value (5%)      -2.869096\n",
      "Critical Value (10%)     -2.570795\n",
      "dtype: float64\n",
      " Series is Stationary\n",
      "----------------------------------------\n",
      "Test Statistic         -7.975174e+00\n",
      "p-value                 2.714494e-12\n",
      "# Lags                  1.500000e+01\n",
      "# Observations          3.830000e+02\n",
      "Critical Value (1%)    -3.447540e+00\n",
      "Critical Value (5%)    -2.869116e+00\n",
      "Critical Value (10%)   -2.570806e+00\n",
      "dtype: float64\n",
      " Series is Stationary\n",
      "----------------------------------------\n",
      "Test Statistic           -3.484711\n",
      "p-value                   0.008389\n",
      "# Lags                   12.000000\n",
      "# Observations          386.000000\n",
      "Critical Value (1%)      -3.447405\n",
      "Critical Value (5%)      -2.869057\n",
      "Critical Value (10%)     -2.570774\n",
      "dtype: float64\n",
      " Series is Stationary\n",
      "----------------------------------------\n",
      "Test Statistic           -4.322657\n",
      "p-value                   0.000406\n",
      "# Lags                   17.000000\n",
      "# Observations          381.000000\n",
      "Critical Value (1%)      -3.447631\n",
      "Critical Value (5%)      -2.869156\n",
      "Critical Value (10%)     -2.570827\n",
      "dtype: float64\n",
      " Series is Stationary\n",
      "----------------------------------------\n",
      "Test Statistic           -2.617603\n",
      "p-value                   0.089413\n",
      "# Lags                   16.000000\n",
      "# Observations          382.000000\n",
      "Critical Value (1%)      -3.447585\n",
      "Critical Value (5%)      -2.869136\n",
      "Critical Value (10%)     -2.570816\n",
      "dtype: float64\n",
      " Series is Non-Stationary\n"
     ]
    }
   ],
   "source": [
    "differenced = df.diff().dropna()\n",
    "\n",
    "adf_test(differenced[0])\n",
    "adf_test(differenced[1])\n",
    "adf_test(differenced[2])\n",
    "adf_test(differenced[3])\n",
    "adf_test(differenced[4])"
   ]
  },
  {
   "cell_type": "code",
   "execution_count": 35,
   "metadata": {},
   "outputs": [
    {
     "name": "stdout",
     "output_type": "stream",
     "text": [
      "----------------------------------------\n",
      "Test Statistic         -9.659784e+00\n",
      "p-value                 1.363261e-16\n",
      "# Lags                  1.700000e+01\n",
      "# Observations          3.800000e+02\n",
      "Critical Value (1%)    -3.447676e+00\n",
      "Critical Value (5%)    -2.869176e+00\n",
      "Critical Value (10%)   -2.570838e+00\n",
      "dtype: float64\n",
      " Series is Stationary\n",
      "----------------------------------------\n",
      "Test Statistic         -1.181390e+01\n",
      "p-value                 8.729557e-22\n",
      "# Lags                  1.700000e+01\n",
      "# Observations          3.800000e+02\n",
      "Critical Value (1%)    -3.447676e+00\n",
      "Critical Value (5%)    -2.869176e+00\n",
      "Critical Value (10%)   -2.570838e+00\n",
      "dtype: float64\n",
      " Series is Stationary\n",
      "----------------------------------------\n",
      "Test Statistic         -9.954601e+00\n",
      "p-value                 2.463182e-17\n",
      "# Lags                  1.700000e+01\n",
      "# Observations          3.800000e+02\n",
      "Critical Value (1%)    -3.447676e+00\n",
      "Critical Value (5%)    -2.869176e+00\n",
      "Critical Value (10%)   -2.570838e+00\n",
      "dtype: float64\n",
      " Series is Stationary\n",
      "----------------------------------------\n",
      "Test Statistic         -1.037166e+01\n",
      "p-value                 2.255861e-18\n",
      "# Lags                  1.700000e+01\n",
      "# Observations          3.800000e+02\n",
      "Critical Value (1%)    -3.447676e+00\n",
      "Critical Value (5%)    -2.869176e+00\n",
      "Critical Value (10%)   -2.570838e+00\n",
      "dtype: float64\n",
      " Series is Stationary\n",
      "----------------------------------------\n",
      "Test Statistic         -7.328742e+00\n",
      "p-value                 1.142597e-10\n",
      "# Lags                  1.500000e+01\n",
      "# Observations          3.820000e+02\n",
      "Critical Value (1%)    -3.447585e+00\n",
      "Critical Value (5%)    -2.869136e+00\n",
      "Critical Value (10%)   -2.570816e+00\n",
      "dtype: float64\n",
      " Series is Stationary\n"
     ]
    }
   ],
   "source": [
    "differenced2 = differenced.diff().dropna()\n",
    "\n",
    "adf_test(differenced2[0])\n",
    "adf_test(differenced2[1])\n",
    "adf_test(differenced2[2])\n",
    "adf_test(differenced2[3])\n",
    "adf_test(differenced2[4])"
   ]
  },
  {
   "cell_type": "code",
   "execution_count": null,
   "metadata": {},
   "outputs": [],
   "source": []
  },
  {
   "cell_type": "code",
   "execution_count": 36,
   "metadata": {},
   "outputs": [
    {
     "name": "stderr",
     "output_type": "stream",
     "text": [
      "c:\\users\\abhichal\\appdata\\local\\programs\\python\\python38\\lib\\site-packages\\statsmodels\\tsa\\base\\tsa_model.py:578: ValueWarning: An unsupported index was provided and will be ignored when e.g. forecasting.\n",
      "  warnings.warn('An unsupported index was provided and will be'\n"
     ]
    }
   ],
   "source": [
    "# intializing the model\n",
    "new_model=VAR(differenced2)\n",
    "\n",
    "# training the model with optimized lag order\n",
    "new_result=new_model.fit(maxlags=13,ic='aic')\n"
   ]
  },
  {
   "cell_type": "code",
   "execution_count": null,
   "metadata": {},
   "outputs": [],
   "source": []
  },
  {
   "cell_type": "code",
   "execution_count": null,
   "metadata": {},
   "outputs": [],
   "source": []
  },
  {
   "cell_type": "code",
   "execution_count": 37,
   "metadata": {},
   "outputs": [
    {
     "data": {
      "text/plain": [
       "array([[ 1.76876445e+00, -2.68048863e+00, -2.55914821e+00,\n",
       "        -1.44782532e+00, -5.27621353e-01],\n",
       "       [-2.19509527e+00,  1.19199859e+00,  2.58906589e-01,\n",
       "         1.43188768e+00,  3.04072689e-01],\n",
       "       [ 1.59698141e+00,  9.86005127e-01,  1.99220473e-01,\n",
       "         8.05672955e-02,  3.20984019e-01],\n",
       "       [ 6.40704194e-01, -7.03909203e-01, -5.00042371e-01,\n",
       "         1.37679350e+00,  8.31032162e-01],\n",
       "       [ 2.77287583e-01,  2.93020148e+00,  1.88212043e+00,\n",
       "        -8.57555393e-01, -1.28840209e+00],\n",
       "       [ 2.41651220e-01, -2.11871557e+00, -1.11687299e+00,\n",
       "         2.00328826e+00,  5.12944219e-02],\n",
       "       [-1.57237291e+00,  1.10479828e+00,  1.66830413e+00,\n",
       "        -2.81960060e+00, -1.24552309e+00],\n",
       "       [-4.03035928e-01, -1.80507530e+00, -1.04636345e+00,\n",
       "         1.68777939e+00,  1.20714094e+00],\n",
       "       [ 2.33333830e-01, -6.21225216e-01, -4.81220750e-01,\n",
       "        -2.28284287e+00,  8.38383964e-02],\n",
       "       [ 4.60140777e-03, -2.15107616e-01, -8.98407742e-02,\n",
       "         6.53859562e-01, -1.03662311e-01],\n",
       "       [ 1.29071291e-02,  6.88903246e-01, -1.02700552e+00,\n",
       "        -1.00808055e-01,  5.71299148e-02],\n",
       "       [ 3.81722367e-01,  5.81426875e-01,  7.66928072e-01,\n",
       "         5.59090130e-01,  9.56175417e-01],\n",
       "       [ 9.62460092e-01,  8.03612105e-01,  7.14422847e-01,\n",
       "         9.39160425e-01, -5.97945537e-01],\n",
       "       [ 3.36734826e-01,  3.63402614e-01,  1.22271527e-01,\n",
       "         1.05795286e-01, -4.12688750e-01],\n",
       "       [-6.08064415e-01, -1.20725797e-01, -5.65784086e-02,\n",
       "         2.21747494e-01, -9.83901856e-02],\n",
       "       [-8.66220139e-01, -9.57524683e-01,  4.66779341e-01,\n",
       "        -4.22021019e-01, -2.29374235e-01],\n",
       "       [-2.24011253e-02, -4.51200946e-01, -6.69925389e-01,\n",
       "        -1.40855483e+00, -6.57199434e-02],\n",
       "       [-6.28725064e-01, -1.10350043e+00, -3.34704872e-01,\n",
       "        -9.31317335e-02,  3.05885261e-01],\n",
       "       [ 4.31921991e-01,  1.22059083e+00, -3.24569642e-01,\n",
       "        -3.40727332e-01,  4.72144541e-02],\n",
       "       [ 4.37125520e-02, -5.84320535e-01, -1.84566205e-01,\n",
       "         1.16076672e+00,  7.61557636e-01],\n",
       "       [ 9.85735024e-01,  1.51804493e+00,  5.02944848e-01,\n",
       "        -6.75211922e-02, -3.35344910e-01],\n",
       "       [ 2.71010522e-01, -1.63490279e-01,  2.09595634e-01,\n",
       "         1.30127614e+00,  3.24450062e-01],\n",
       "       [ 1.57885629e-01,  6.72937552e-01,  5.08452964e-01,\n",
       "        -4.07312237e-01, -7.48889391e-01],\n",
       "       [-5.69793724e-01, -5.08306102e-01,  2.32089368e-01,\n",
       "         2.75554101e-02, -2.93817694e-01],\n",
       "       [-7.14219023e-01, -7.21269077e-01, -2.65337295e-01,\n",
       "        -7.85715724e-01,  6.09346747e-02],\n",
       "       [-1.43981134e-01, -6.82919728e-01, -2.76115187e-01,\n",
       "        -7.68861079e-01, -1.63745258e-01],\n",
       "       [-4.27180927e-01, -2.03050245e-01, -7.33837675e-01,\n",
       "        -1.14989336e-01,  3.43761354e-01],\n",
       "       [ 4.26611323e-01,  1.08786534e-01, -2.50723949e-01,\n",
       "         3.74553942e-03,  4.23777634e-01],\n",
       "       [ 4.87217629e-01,  7.83977036e-01,  3.06551017e-01,\n",
       "         6.84864485e-01,  3.29291310e-01],\n",
       "       [ 5.53221583e-01,  4.26922955e-01,  2.75712038e-01,\n",
       "         5.58109462e-01, -1.21783928e-01],\n",
       "       [ 3.77340269e-01,  7.33516402e-01,  5.34377940e-01,\n",
       "         4.54880934e-01, -2.77267035e-01],\n",
       "       [-3.97169141e-01, -2.80420878e-01,  3.37803937e-01,\n",
       "         2.83789289e-01, -3.12069259e-01],\n",
       "       [-1.99406368e-01, -3.20981881e-01, -2.84948270e-02,\n",
       "        -7.17714981e-01, -2.45596409e-01],\n",
       "       [-8.36011691e-01, -9.76435915e-01, -2.86428065e-01,\n",
       "        -5.22958257e-01, -4.49065661e-02],\n",
       "       [-1.14731042e-01, -3.25592140e-01, -5.46375456e-01,\n",
       "        -8.22310625e-01,  6.43254615e-02],\n",
       "       [-1.59945200e-01, -1.77788245e-01, -3.10530785e-01,\n",
       "         8.67516012e-02,  3.69453624e-01],\n",
       "       [ 4.50883811e-01,  4.82250376e-01, -1.85669459e-01,\n",
       "         1.22369051e-01,  2.49590624e-01],\n",
       "       [ 5.61490682e-01,  5.98486648e-01,  2.54024704e-01,\n",
       "         7.69021695e-01,  2.58742670e-01],\n",
       "       [ 4.23909640e-01,  6.42417284e-01,  4.25449595e-01,\n",
       "         6.16526103e-01, -9.62123017e-02],\n",
       "       [ 2.13067998e-01,  2.08320725e-01,  3.88606787e-01,\n",
       "         3.18412956e-01, -3.53399526e-01],\n",
       "       [-4.27898698e-01, -2.16906204e-01,  3.11775323e-01,\n",
       "        -1.33243286e-01, -2.09809759e-01],\n",
       "       [-4.03597112e-01, -6.80915350e-01, -1.07479099e-01,\n",
       "        -6.49987883e-01, -3.07415345e-01],\n",
       "       [-5.69554430e-01, -5.60554668e-01, -3.54314809e-01,\n",
       "        -6.46773853e-01,  1.36636774e-02],\n",
       "       [-2.41002198e-01, -4.36852617e-01, -5.72682010e-01,\n",
       "        -4.12120363e-01,  1.84798974e-01],\n",
       "       [ 2.04346648e-01,  1.81522682e-01, -2.46921161e-01,\n",
       "        -9.00776108e-03,  3.64258872e-01],\n",
       "       [ 3.88456289e-01,  4.16908805e-01, -5.16460356e-02,\n",
       "         4.85475513e-01,  2.99317066e-01],\n",
       "       [ 6.64544191e-01,  6.98430737e-01,  3.16881969e-01,\n",
       "         5.78571874e-01,  5.42704772e-02],\n",
       "       [ 2.12981119e-01,  4.91971560e-01,  4.80400732e-01,\n",
       "         6.36715017e-01, -1.50091364e-01],\n",
       "       [ 7.60069231e-02,  7.48389996e-02,  3.72972550e-01,\n",
       "         8.31729588e-02, -3.28487988e-01],\n",
       "       [-4.80264855e-01, -4.02972625e-01,  1.49739914e-01,\n",
       "        -2.75375420e-01, -2.86034345e-01],\n",
       "       [-4.89785954e-01, -6.53718237e-01, -2.44314765e-01,\n",
       "        -6.65189252e-01, -1.36163946e-01],\n",
       "       [-4.15293912e-01, -5.76743680e-01, -4.22251280e-01,\n",
       "        -5.74937575e-01,  6.90252839e-02],\n",
       "       [-1.14690263e-01, -1.92663425e-01, -4.35037885e-01,\n",
       "        -3.06380204e-01,  2.67531570e-01],\n",
       "       [ 3.06819981e-01,  2.26022722e-01, -2.27738011e-01,\n",
       "         1.78129040e-01,  3.20654516e-01],\n",
       "       [ 4.75267572e-01,  6.34113932e-01,  1.52528960e-01,\n",
       "         5.28590819e-01,  2.13503913e-01],\n",
       "       [ 5.20925222e-01,  5.94389439e-01,  3.13895587e-01,\n",
       "         6.62508382e-01, -3.14706061e-02],\n",
       "       [ 1.85329999e-01,  3.84794402e-01,  4.86840233e-01,\n",
       "         4.06583869e-01, -1.96387719e-01],\n",
       "       [-1.64572995e-01, -1.54642728e-01,  2.78593717e-01,\n",
       "        -6.98258801e-03, -3.08127592e-01],\n",
       "       [-4.37490090e-01, -4.91858285e-01,  2.59393271e-02,\n",
       "        -4.82296899e-01, -2.52300472e-01],\n",
       "       [-5.39525133e-01, -6.50909102e-01, -3.18982087e-01,\n",
       "        -6.13421874e-01, -7.29991720e-02],\n",
       "       [-2.78843350e-01, -4.42759171e-01, -4.36321551e-01,\n",
       "        -5.24269949e-01,  1.46572885e-01],\n",
       "       [ 8.53210012e-03, -2.63211101e-02, -3.60867879e-01,\n",
       "        -1.04603080e-01,  2.98462697e-01],\n",
       "       [ 4.07381445e-01,  3.70492255e-01, -1.16241461e-01,\n",
       "         3.02370390e-01,  2.89485236e-01],\n",
       "       [ 4.97488646e-01,  6.36276578e-01,  2.18570724e-01,\n",
       "         6.14554001e-01,  1.35377835e-01],\n",
       "       [ 4.14711039e-01,  5.33604345e-01,  4.04453952e-01,\n",
       "         5.67662760e-01, -8.73433449e-02],\n",
       "       [ 6.51685322e-02,  1.82017356e-01,  4.11608115e-01,\n",
       "         2.63564264e-01, -2.62450752e-01],\n",
       "       [-2.87347327e-01, -2.50904528e-01,  2.06164436e-01,\n",
       "        -1.96888394e-01, -2.93996683e-01],\n",
       "       [-4.84145752e-01, -5.86661419e-01, -1.21072471e-01,\n",
       "        -5.20541126e-01, -1.96059932e-01],\n",
       "       [-4.55447777e-01, -5.69920951e-01, -3.53473802e-01,\n",
       "        -6.18766962e-01,  1.13949318e-02],\n",
       "       [-1.85582169e-01, -3.39068357e-01, -4.45841093e-01,\n",
       "        -3.59193247e-01,  2.18693275e-01],\n",
       "       [ 1.71660014e-01,  1.36028673e-01, -2.58937217e-01,\n",
       "         1.80767480e-02,  3.01381043e-01],\n",
       "       [ 4.41046829e-01,  4.78157553e-01, -2.57404062e-03,\n",
       "         4.49844093e-01,  2.36783363e-01],\n",
       "       [ 4.93052469e-01,  6.24815606e-01,  2.98178445e-01,\n",
       "         5.95492234e-01,  4.91338206e-02],\n",
       "       [ 2.78943894e-01,  4.25495652e-01,  4.22698690e-01,\n",
       "         4.87515252e-01, -1.51276360e-01],\n",
       "       [-5.00744725e-02,  1.83975045e-02,  3.43224494e-01,\n",
       "         9.22946067e-02, -2.81638701e-01],\n",
       "       [-3.74179290e-01, -3.85298344e-01,  8.56614259e-02,\n",
       "        -3.18275622e-01, -2.67537410e-01],\n",
       "       [-4.86515908e-01, -6.03780390e-01, -2.11998234e-01,\n",
       "        -5.77462364e-01, -1.18109778e-01],\n",
       "       [-3.70949800e-01, -5.01241218e-01, -3.96286098e-01,\n",
       "        -5.42967112e-01,  8.55348087e-02],\n",
       "       [-5.75168904e-02, -1.61240189e-01, -3.84861560e-01,\n",
       "        -2.35200483e-01,  2.53821133e-01],\n",
       "       [ 2.76236679e-01,  2.61623116e-01, -1.78293118e-01,\n",
       "         1.92393397e-01,  2.85957616e-01],\n",
       "       [ 4.77782504e-01,  5.59860847e-01,  1.19523811e-01,\n",
       "         5.12590290e-01,  1.75482363e-01],\n",
       "       [ 4.25982965e-01,  5.51377953e-01,  3.44473641e-01,\n",
       "         5.85379935e-01, -2.11006508e-02],\n",
       "       [ 1.68833088e-01,  2.94404893e-01,  4.11416089e-01,\n",
       "         3.39005025e-01, -2.06269664e-01],\n",
       "       [-1.79589988e-01, -1.39472091e-01,  2.53609188e-01,\n",
       "        -4.77040076e-02, -2.83818423e-01],\n",
       "       [-4.22451771e-01, -4.69005828e-01, -1.86301204e-02,\n",
       "        -4.38568442e-01, -2.26417119e-01],\n",
       "       [-4.65026620e-01, -5.86047775e-01, -2.90422606e-01,\n",
       "        -5.72563241e-01, -4.30030738e-02],\n",
       "       [-2.60998926e-01, -3.89762661e-01, -4.03864397e-01,\n",
       "        -4.48636522e-01,  1.52769217e-01],\n",
       "       [ 6.60043485e-02, -8.44929799e-03, -3.20428147e-01,\n",
       "        -7.69924252e-02,  2.74660281e-01],\n",
       "       [ 3.61868084e-01,  3.78863667e-01, -7.37705050e-02,\n",
       "         3.15984135e-01,  2.54305629e-01],\n",
       "       [ 4.72050665e-01,  5.74709155e-01,  2.09289158e-01,\n",
       "         5.55514383e-01,  1.06303055e-01],\n",
       "       [ 3.41579409e-01,  4.75378189e-01,  3.84226337e-01,\n",
       "         5.09286054e-01, -9.14604331e-02],\n",
       "       [ 4.36990508e-02,  1.38818199e-01,  3.62353214e-01,\n",
       "         2.06339878e-01, -2.44709546e-01],\n",
       "       [-2.75753124e-01, -2.63613270e-01,  1.60674720e-01,\n",
       "        -1.96292747e-01, -2.69717513e-01],\n",
       "       [-4.53170905e-01, -5.34385961e-01, -1.24715501e-01,\n",
       "        -4.98269745e-01, -1.62769696e-01],\n",
       "       [-3.99755398e-01, -5.26490020e-01, -3.40151285e-01,\n",
       "        -5.50612694e-01,  2.86109868e-02],\n",
       "       [-1.50110233e-01, -2.63471316e-01, -3.87423819e-01,\n",
       "        -3.18439813e-01,  2.04347639e-01],\n",
       "       [ 1.82773435e-01,  1.42783750e-01, -2.34639642e-01,\n",
       "         6.22886972e-02,  2.72994536e-01],\n",
       "       [ 4.11081862e-01,  4.62572244e-01,  2.99059103e-02,\n",
       "         4.21923232e-01,  2.07221907e-01],\n",
       "       [ 4.40208959e-01,  5.56363917e-01,  2.81078555e-01,\n",
       "         5.52051239e-01,  3.49770577e-02],\n",
       "       [ 2.39020962e-01,  3.61776461e-01,  3.87701052e-01,\n",
       "         4.15473553e-01, -1.49942370e-01]])"
      ]
     },
     "execution_count": 37,
     "metadata": {},
     "output_type": "execute_result"
    }
   ],
   "source": [
    "new_100=new_result.forecast(differenced2.values[-lag_order:],100)\n",
    "new_100"
   ]
  },
  {
   "cell_type": "code",
   "execution_count": 38,
   "metadata": {},
   "outputs": [
    {
     "data": {
      "text/html": [
       "<div>\n",
       "<style scoped>\n",
       "    .dataframe tbody tr th:only-of-type {\n",
       "        vertical-align: middle;\n",
       "    }\n",
       "\n",
       "    .dataframe tbody tr th {\n",
       "        vertical-align: top;\n",
       "    }\n",
       "\n",
       "    .dataframe thead th {\n",
       "        text-align: right;\n",
       "    }\n",
       "</style>\n",
       "<table border=\"1\" class=\"dataframe\">\n",
       "  <thead>\n",
       "    <tr style=\"text-align: right;\">\n",
       "      <th></th>\n",
       "      <th>0</th>\n",
       "      <th>1</th>\n",
       "      <th>2</th>\n",
       "      <th>3</th>\n",
       "      <th>4</th>\n",
       "    </tr>\n",
       "  </thead>\n",
       "  <tbody>\n",
       "    <tr>\n",
       "      <th>0</th>\n",
       "      <td>1.768764</td>\n",
       "      <td>-2.680489</td>\n",
       "      <td>-2.559148</td>\n",
       "      <td>-1.447825</td>\n",
       "      <td>-0.527621</td>\n",
       "    </tr>\n",
       "    <tr>\n",
       "      <th>1</th>\n",
       "      <td>-2.195095</td>\n",
       "      <td>1.191999</td>\n",
       "      <td>0.258907</td>\n",
       "      <td>1.431888</td>\n",
       "      <td>0.304073</td>\n",
       "    </tr>\n",
       "    <tr>\n",
       "      <th>2</th>\n",
       "      <td>1.596981</td>\n",
       "      <td>0.986005</td>\n",
       "      <td>0.199220</td>\n",
       "      <td>0.080567</td>\n",
       "      <td>0.320984</td>\n",
       "    </tr>\n",
       "    <tr>\n",
       "      <th>3</th>\n",
       "      <td>0.640704</td>\n",
       "      <td>-0.703909</td>\n",
       "      <td>-0.500042</td>\n",
       "      <td>1.376794</td>\n",
       "      <td>0.831032</td>\n",
       "    </tr>\n",
       "    <tr>\n",
       "      <th>4</th>\n",
       "      <td>0.277288</td>\n",
       "      <td>2.930201</td>\n",
       "      <td>1.882120</td>\n",
       "      <td>-0.857555</td>\n",
       "      <td>-1.288402</td>\n",
       "    </tr>\n",
       "  </tbody>\n",
       "</table>\n",
       "</div>"
      ],
      "text/plain": [
       "          0         1         2         3         4\n",
       "0  1.768764 -2.680489 -2.559148 -1.447825 -0.527621\n",
       "1 -2.195095  1.191999  0.258907  1.431888  0.304073\n",
       "2  1.596981  0.986005  0.199220  0.080567  0.320984\n",
       "3  0.640704 -0.703909 -0.500042  1.376794  0.831032\n",
       "4  0.277288  2.930201  1.882120 -0.857555 -1.288402"
      ]
     },
     "execution_count": 38,
     "metadata": {},
     "output_type": "execute_result"
    }
   ],
   "source": [
    "forecast_100 = pd.DataFrame(new_100, columns = df.columns)\n",
    "forecast_100.head()"
   ]
  },
  {
   "cell_type": "code",
   "execution_count": 39,
   "metadata": {},
   "outputs": [
    {
     "data": {
      "text/html": [
       "<div>\n",
       "<style scoped>\n",
       "    .dataframe tbody tr th:only-of-type {\n",
       "        vertical-align: middle;\n",
       "    }\n",
       "\n",
       "    .dataframe tbody tr th {\n",
       "        vertical-align: top;\n",
       "    }\n",
       "\n",
       "    .dataframe thead th {\n",
       "        text-align: right;\n",
       "    }\n",
       "</style>\n",
       "<table border=\"1\" class=\"dataframe\">\n",
       "  <thead>\n",
       "    <tr style=\"text-align: right;\">\n",
       "      <th></th>\n",
       "      <th>0</th>\n",
       "      <th>1</th>\n",
       "      <th>2</th>\n",
       "      <th>3</th>\n",
       "      <th>4</th>\n",
       "    </tr>\n",
       "  </thead>\n",
       "  <tbody>\n",
       "    <tr>\n",
       "      <th>0</th>\n",
       "      <td>-7.925436</td>\n",
       "      <td>6.394411</td>\n",
       "      <td>18.253852</td>\n",
       "      <td>-9.705025</td>\n",
       "      <td>-25.240621</td>\n",
       "    </tr>\n",
       "    <tr>\n",
       "      <th>1</th>\n",
       "      <td>-9.522366</td>\n",
       "      <td>5.583521</td>\n",
       "      <td>17.626610</td>\n",
       "      <td>-10.396263</td>\n",
       "      <td>-25.382170</td>\n",
       "    </tr>\n",
       "    <tr>\n",
       "      <th>2</th>\n",
       "      <td>-9.522316</td>\n",
       "      <td>5.758636</td>\n",
       "      <td>17.198589</td>\n",
       "      <td>-11.006933</td>\n",
       "      <td>-25.202735</td>\n",
       "    </tr>\n",
       "    <tr>\n",
       "      <th>3</th>\n",
       "      <td>-8.881561</td>\n",
       "      <td>5.229842</td>\n",
       "      <td>16.270526</td>\n",
       "      <td>-10.240810</td>\n",
       "      <td>-24.192267</td>\n",
       "    </tr>\n",
       "    <tr>\n",
       "      <th>4</th>\n",
       "      <td>-7.963519</td>\n",
       "      <td>7.631250</td>\n",
       "      <td>17.224582</td>\n",
       "      <td>-10.332242</td>\n",
       "      <td>-24.470202</td>\n",
       "    </tr>\n",
       "  </tbody>\n",
       "</table>\n",
       "</div>"
      ],
      "text/plain": [
       "          0         1          2          3          4\n",
       "0 -7.925436  6.394411  18.253852  -9.705025 -25.240621\n",
       "1 -9.522366  5.583521  17.626610 -10.396263 -25.382170\n",
       "2 -9.522316  5.758636  17.198589 -11.006933 -25.202735\n",
       "3 -8.881561  5.229842  16.270526 -10.240810 -24.192267\n",
       "4 -7.963519  7.631250  17.224582 -10.332242 -24.470202"
      ]
     },
     "execution_count": 39,
     "metadata": {},
     "output_type": "execute_result"
    }
   ],
   "source": [
    "forecast_values = inverting_transform(df, forecast_100, diff_2=True)\n",
    "forecast_values.head()"
   ]
  },
  {
   "cell_type": "code",
   "execution_count": 41,
   "metadata": {},
   "outputs": [],
   "source": [
    "forecast_values.to_csv('Abhichal_Rajput_Prediction.csv',index=False)"
   ]
  },
  {
   "cell_type": "markdown",
   "metadata": {},
   "source": [
    "<b>iv. (1 point) Explain in a text block whether the task is supervised or unsupervised and why?; whether\n",
    "there are any interdependencies among the 5 variables and if yes, then explain which interdependencies\n",
    "you observed; how you chose the best hyperparameter value for the model, the criteria which you have\n",
    "checked for hyperparameter selection.</b>"
   ]
  },
  {
   "cell_type": "code",
   "execution_count": 42,
   "metadata": {},
   "outputs": [
    {
     "data": {
      "text/html": [
       "<div>\n",
       "<style scoped>\n",
       "    .dataframe tbody tr th:only-of-type {\n",
       "        vertical-align: middle;\n",
       "    }\n",
       "\n",
       "    .dataframe tbody tr th {\n",
       "        vertical-align: top;\n",
       "    }\n",
       "\n",
       "    .dataframe thead th {\n",
       "        text-align: right;\n",
       "    }\n",
       "</style>\n",
       "<table border=\"1\" class=\"dataframe\">\n",
       "  <thead>\n",
       "    <tr style=\"text-align: right;\">\n",
       "      <th></th>\n",
       "      <th>0</th>\n",
       "      <th>1</th>\n",
       "      <th>2</th>\n",
       "      <th>3</th>\n",
       "      <th>4</th>\n",
       "    </tr>\n",
       "  </thead>\n",
       "  <tbody>\n",
       "    <tr>\n",
       "      <th>0</th>\n",
       "      <td>1.000000</td>\n",
       "      <td>-0.381424</td>\n",
       "      <td>-0.761634</td>\n",
       "      <td>0.859482</td>\n",
       "      <td>0.835841</td>\n",
       "    </tr>\n",
       "    <tr>\n",
       "      <th>1</th>\n",
       "      <td>-0.381424</td>\n",
       "      <td>1.000000</td>\n",
       "      <td>0.758855</td>\n",
       "      <td>-0.300472</td>\n",
       "      <td>-0.690519</td>\n",
       "    </tr>\n",
       "    <tr>\n",
       "      <th>2</th>\n",
       "      <td>-0.761634</td>\n",
       "      <td>0.758855</td>\n",
       "      <td>1.000000</td>\n",
       "      <td>-0.704730</td>\n",
       "      <td>-0.959444</td>\n",
       "    </tr>\n",
       "    <tr>\n",
       "      <th>3</th>\n",
       "      <td>0.859482</td>\n",
       "      <td>-0.300472</td>\n",
       "      <td>-0.704730</td>\n",
       "      <td>1.000000</td>\n",
       "      <td>0.805153</td>\n",
       "    </tr>\n",
       "    <tr>\n",
       "      <th>4</th>\n",
       "      <td>0.835841</td>\n",
       "      <td>-0.690519</td>\n",
       "      <td>-0.959444</td>\n",
       "      <td>0.805153</td>\n",
       "      <td>1.000000</td>\n",
       "    </tr>\n",
       "  </tbody>\n",
       "</table>\n",
       "</div>"
      ],
      "text/plain": [
       "          0         1         2         3         4\n",
       "0  1.000000 -0.381424 -0.761634  0.859482  0.835841\n",
       "1 -0.381424  1.000000  0.758855 -0.300472 -0.690519\n",
       "2 -0.761634  0.758855  1.000000 -0.704730 -0.959444\n",
       "3  0.859482 -0.300472 -0.704730  1.000000  0.805153\n",
       "4  0.835841 -0.690519 -0.959444  0.805153  1.000000"
      ]
     },
     "execution_count": 42,
     "metadata": {},
     "output_type": "execute_result"
    }
   ],
   "source": [
    "df.corr()"
   ]
  },
  {
   "cell_type": "markdown",
   "metadata": {},
   "source": [
    "<b>Observations:-</b>\n",
    "<br><br>\n",
    "1) I thought the task is supervised because we are given with the previous time series data and we have to predict the future outcomes based on that data.<br><br>2) As you can see from the above correlation table some variables are correlated to each other like 0 is related to 3 and 4 and 1 is related to 2.<br><br>3) I chose the best hyperparameter by performing training the model over multiple lag values and chose the best one with the criteria of AIC score."
   ]
  },
  {
   "cell_type": "code",
   "execution_count": null,
   "metadata": {},
   "outputs": [],
   "source": []
  }
 ],
 "metadata": {
  "kernelspec": {
   "display_name": "Python 3",
   "language": "python",
   "name": "python3"
  },
  "language_info": {
   "codemirror_mode": {
    "name": "ipython",
    "version": 3
   },
   "file_extension": ".py",
   "mimetype": "text/x-python",
   "name": "python",
   "nbconvert_exporter": "python",
   "pygments_lexer": "ipython3",
   "version": "3.8.6"
  }
 },
 "nbformat": 4,
 "nbformat_minor": 4
}
