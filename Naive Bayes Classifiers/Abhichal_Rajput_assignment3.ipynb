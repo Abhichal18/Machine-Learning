{
 "cells": [
  {
   "cell_type": "markdown",
   "metadata": {},
   "source": [
    "You are provided with two three class dataset namely linearly separable and non-linearly separable. Learn a Naive Bayes classifier for both the dataset separately and report your results with observation as mentioned below. Assume data follows gaussian distribution. Data points are two dimensional."
   ]
  },
  {
   "cell_type": "code",
   "execution_count": 356,
   "metadata": {},
   "outputs": [],
   "source": [
    "import pandas as pd\n",
    "import numpy as np\n",
    "import matplotlib.pyplot as plt\n",
    "from mlxtend.plotting import plot_decision_regions\n",
    "from sklearn.metrics import confusion_matrix"
   ]
  },
  {
   "cell_type": "markdown",
   "metadata": {},
   "source": [
    "## Code for Gaussian Naive Bayes Classifier"
   ]
  },
  {
   "cell_type": "code",
   "execution_count": 440,
   "metadata": {},
   "outputs": [],
   "source": [
    "# defining gaussian class\n",
    "class Gaussian():\n",
    "    # intitialize a constructor\n",
    "    def __init__(self):\n",
    "        pass\n",
    "\n",
    "    # function to fit the model\n",
    "    def fit_model(self, X, y):\n",
    "        # seaparating the data based on the class labels\n",
    "        separated = [[point for point, category in zip(X, y) if category == label] for label in np.unique(y)]\n",
    "        # finding meand and standard deviation\n",
    "        self.model = np.array([np.c_[np.mean(i, axis=0), np.std(i, axis=0)]\n",
    "                    for i in separated])\n",
    "        return self\n",
    "    \n",
    "    # finding the probability\n",
    "    def probability(self, x, mean, std_dev):\n",
    "        exponent = np.exp(- ((x - mean)**2 / (2 * std_dev**2)))\n",
    "        result=np.log(exponent / (np.sqrt(2 * np.pi) * std_dev))\n",
    "        return result\n",
    "    \n",
    "    \n",
    "    # predicting for data\n",
    "    def predict(self, X):\n",
    "        return np.argmax([[sum(self.probability(i, *mean_std) for mean_std, i in zip(summaries, x))\n",
    "                for summaries in self.model] for x in X], axis=1)\n",
    "    \n",
    "    # calculation the score\n",
    "    def accuracy_score(self, X, y):\n",
    "        score=sum(self.predict(X) == y) / len(y)\n",
    "        return score"
   ]
  },
  {
   "cell_type": "markdown",
   "metadata": {},
   "source": [
    "# LINEARLY SEPARABLE DATASET"
   ]
  },
  {
   "cell_type": "code",
   "execution_count": 441,
   "metadata": {},
   "outputs": [
    {
     "data": {
      "text/html": [
       "<div>\n",
       "<style scoped>\n",
       "    .dataframe tbody tr th:only-of-type {\n",
       "        vertical-align: middle;\n",
       "    }\n",
       "\n",
       "    .dataframe tbody tr th {\n",
       "        vertical-align: top;\n",
       "    }\n",
       "\n",
       "    .dataframe thead th {\n",
       "        text-align: right;\n",
       "    }\n",
       "</style>\n",
       "<table border=\"1\" class=\"dataframe\">\n",
       "  <thead>\n",
       "    <tr style=\"text-align: right;\">\n",
       "      <th></th>\n",
       "      <th>0</th>\n",
       "    </tr>\n",
       "  </thead>\n",
       "  <tbody>\n",
       "    <tr>\n",
       "      <th>0</th>\n",
       "      <td>0.22315 -0.021698</td>\n",
       "    </tr>\n",
       "    <tr>\n",
       "      <th>1</th>\n",
       "      <td>-0.62173 2.9335</td>\n",
       "    </tr>\n",
       "    <tr>\n",
       "      <th>2</th>\n",
       "      <td>-0.98655 -1.0069</td>\n",
       "    </tr>\n",
       "    <tr>\n",
       "      <th>3</th>\n",
       "      <td>-2.3567 4.3154</td>\n",
       "    </tr>\n",
       "    <tr>\n",
       "      <th>4</th>\n",
       "      <td>-0.31071 2.5497</td>\n",
       "    </tr>\n",
       "  </tbody>\n",
       "</table>\n",
       "</div>"
      ],
      "text/plain": [
       "                   0\n",
       "0  0.22315 -0.021698\n",
       "1    -0.62173 2.9335\n",
       "2   -0.98655 -1.0069\n",
       "3     -2.3567 4.3154\n",
       "4    -0.31071 2.5497"
      ]
     },
     "execution_count": 441,
     "metadata": {},
     "output_type": "execute_result"
    }
   ],
   "source": [
    "# reading class label 1 training data\n",
    "df1=pd.read_csv('class1_train.txt',header=None)\n",
    "df1.head()"
   ]
  },
  {
   "cell_type": "code",
   "execution_count": 442,
   "metadata": {},
   "outputs": [
    {
     "data": {
      "text/html": [
       "<div>\n",
       "<style scoped>\n",
       "    .dataframe tbody tr th:only-of-type {\n",
       "        vertical-align: middle;\n",
       "    }\n",
       "\n",
       "    .dataframe tbody tr th {\n",
       "        vertical-align: top;\n",
       "    }\n",
       "\n",
       "    .dataframe thead th {\n",
       "        text-align: right;\n",
       "    }\n",
       "</style>\n",
       "<table border=\"1\" class=\"dataframe\">\n",
       "  <thead>\n",
       "    <tr style=\"text-align: right;\">\n",
       "      <th></th>\n",
       "      <th>0</th>\n",
       "    </tr>\n",
       "  </thead>\n",
       "  <tbody>\n",
       "    <tr>\n",
       "      <th>0</th>\n",
       "      <td>9.4702 11.239</td>\n",
       "    </tr>\n",
       "    <tr>\n",
       "      <th>1</th>\n",
       "      <td>11.116 10.653</td>\n",
       "    </tr>\n",
       "    <tr>\n",
       "      <th>2</th>\n",
       "      <td>12.548 11.56</td>\n",
       "    </tr>\n",
       "    <tr>\n",
       "      <th>3</th>\n",
       "      <td>12.088 10.969</td>\n",
       "    </tr>\n",
       "    <tr>\n",
       "      <th>4</th>\n",
       "      <td>11.575 9.7832</td>\n",
       "    </tr>\n",
       "  </tbody>\n",
       "</table>\n",
       "</div>"
      ],
      "text/plain": [
       "               0\n",
       "0  9.4702 11.239\n",
       "1  11.116 10.653\n",
       "2   12.548 11.56\n",
       "3  12.088 10.969\n",
       "4  11.575 9.7832"
      ]
     },
     "execution_count": 442,
     "metadata": {},
     "output_type": "execute_result"
    }
   ],
   "source": [
    "# reading class label 2 training data\n",
    "df2=pd.read_csv('class2_train.txt',header=None)\n",
    "df2.head()"
   ]
  },
  {
   "cell_type": "code",
   "execution_count": 443,
   "metadata": {},
   "outputs": [
    {
     "data": {
      "text/html": [
       "<div>\n",
       "<style scoped>\n",
       "    .dataframe tbody tr th:only-of-type {\n",
       "        vertical-align: middle;\n",
       "    }\n",
       "\n",
       "    .dataframe tbody tr th {\n",
       "        vertical-align: top;\n",
       "    }\n",
       "\n",
       "    .dataframe thead th {\n",
       "        text-align: right;\n",
       "    }\n",
       "</style>\n",
       "<table border=\"1\" class=\"dataframe\">\n",
       "  <thead>\n",
       "    <tr style=\"text-align: right;\">\n",
       "      <th></th>\n",
       "      <th>0</th>\n",
       "    </tr>\n",
       "  </thead>\n",
       "  <tbody>\n",
       "    <tr>\n",
       "      <th>0</th>\n",
       "      <td>11.332 -7.1345</td>\n",
       "    </tr>\n",
       "    <tr>\n",
       "      <th>1</th>\n",
       "      <td>11.574 -7.8834</td>\n",
       "    </tr>\n",
       "    <tr>\n",
       "      <th>2</th>\n",
       "      <td>9.5646 -8.4623</td>\n",
       "    </tr>\n",
       "    <tr>\n",
       "      <th>3</th>\n",
       "      <td>13.735 -4.4125</td>\n",
       "    </tr>\n",
       "    <tr>\n",
       "      <th>4</th>\n",
       "      <td>13.408 -7.0876</td>\n",
       "    </tr>\n",
       "  </tbody>\n",
       "</table>\n",
       "</div>"
      ],
      "text/plain": [
       "                0\n",
       "0  11.332 -7.1345\n",
       "1  11.574 -7.8834\n",
       "2  9.5646 -8.4623\n",
       "3  13.735 -4.4125\n",
       "4  13.408 -7.0876"
      ]
     },
     "execution_count": 443,
     "metadata": {},
     "output_type": "execute_result"
    }
   ],
   "source": [
    "# reading class label 3 training data\n",
    "df3=pd.read_csv('class3_train.txt',header=None)\n",
    "df3.head()\n"
   ]
  },
  {
   "cell_type": "code",
   "execution_count": 444,
   "metadata": {},
   "outputs": [
    {
     "data": {
      "text/html": [
       "<div>\n",
       "<style scoped>\n",
       "    .dataframe tbody tr th:only-of-type {\n",
       "        vertical-align: middle;\n",
       "    }\n",
       "\n",
       "    .dataframe tbody tr th {\n",
       "        vertical-align: top;\n",
       "    }\n",
       "\n",
       "    .dataframe thead th {\n",
       "        text-align: right;\n",
       "    }\n",
       "</style>\n",
       "<table border=\"1\" class=\"dataframe\">\n",
       "  <thead>\n",
       "    <tr style=\"text-align: right;\">\n",
       "      <th></th>\n",
       "      <th>0</th>\n",
       "    </tr>\n",
       "  </thead>\n",
       "  <tbody>\n",
       "    <tr>\n",
       "      <th>0</th>\n",
       "      <td>0.79642 -0.56184</td>\n",
       "    </tr>\n",
       "    <tr>\n",
       "      <th>1</th>\n",
       "      <td>-0.58534 0.31038</td>\n",
       "    </tr>\n",
       "    <tr>\n",
       "      <th>2</th>\n",
       "      <td>1.2851 -3.0689</td>\n",
       "    </tr>\n",
       "    <tr>\n",
       "      <th>3</th>\n",
       "      <td>-0.30204 0.47625</td>\n",
       "    </tr>\n",
       "    <tr>\n",
       "      <th>4</th>\n",
       "      <td>0.46954 -0.092999</td>\n",
       "    </tr>\n",
       "  </tbody>\n",
       "</table>\n",
       "</div>"
      ],
      "text/plain": [
       "                   0\n",
       "0   0.79642 -0.56184\n",
       "1   -0.58534 0.31038\n",
       "2     1.2851 -3.0689\n",
       "3   -0.30204 0.47625\n",
       "4  0.46954 -0.092999"
      ]
     },
     "execution_count": 444,
     "metadata": {},
     "output_type": "execute_result"
    }
   ],
   "source": [
    "# reading class label 1 test data\n",
    "test_df1=pd.read_csv('linearly_seperable\\class1_test.txt',header=None)\n",
    "test_df1.head()"
   ]
  },
  {
   "cell_type": "code",
   "execution_count": 445,
   "metadata": {},
   "outputs": [
    {
     "data": {
      "text/html": [
       "<div>\n",
       "<style scoped>\n",
       "    .dataframe tbody tr th:only-of-type {\n",
       "        vertical-align: middle;\n",
       "    }\n",
       "\n",
       "    .dataframe tbody tr th {\n",
       "        vertical-align: top;\n",
       "    }\n",
       "\n",
       "    .dataframe thead th {\n",
       "        text-align: right;\n",
       "    }\n",
       "</style>\n",
       "<table border=\"1\" class=\"dataframe\">\n",
       "  <thead>\n",
       "    <tr style=\"text-align: right;\">\n",
       "      <th></th>\n",
       "      <th>0</th>\n",
       "    </tr>\n",
       "  </thead>\n",
       "  <tbody>\n",
       "    <tr>\n",
       "      <th>0</th>\n",
       "      <td>8.1693 9.9322</td>\n",
       "    </tr>\n",
       "    <tr>\n",
       "      <th>1</th>\n",
       "      <td>11.476 10.37</td>\n",
       "    </tr>\n",
       "    <tr>\n",
       "      <th>2</th>\n",
       "      <td>12.863 9.9767</td>\n",
       "    </tr>\n",
       "    <tr>\n",
       "      <th>3</th>\n",
       "      <td>9.3455 12.13</td>\n",
       "    </tr>\n",
       "    <tr>\n",
       "      <th>4</th>\n",
       "      <td>8.2528 10.652</td>\n",
       "    </tr>\n",
       "  </tbody>\n",
       "</table>\n",
       "</div>"
      ],
      "text/plain": [
       "               0\n",
       "0  8.1693 9.9322\n",
       "1   11.476 10.37\n",
       "2  12.863 9.9767\n",
       "3   9.3455 12.13\n",
       "4  8.2528 10.652"
      ]
     },
     "execution_count": 445,
     "metadata": {},
     "output_type": "execute_result"
    }
   ],
   "source": [
    "# reading class label 2 test data\n",
    "test_df2=pd.read_csv('linearly_seperable\\class2_test.txt',header=None)\n",
    "test_df2.head()"
   ]
  },
  {
   "cell_type": "code",
   "execution_count": 446,
   "metadata": {},
   "outputs": [
    {
     "data": {
      "text/html": [
       "<div>\n",
       "<style scoped>\n",
       "    .dataframe tbody tr th:only-of-type {\n",
       "        vertical-align: middle;\n",
       "    }\n",
       "\n",
       "    .dataframe tbody tr th {\n",
       "        vertical-align: top;\n",
       "    }\n",
       "\n",
       "    .dataframe thead th {\n",
       "        text-align: right;\n",
       "    }\n",
       "</style>\n",
       "<table border=\"1\" class=\"dataframe\">\n",
       "  <thead>\n",
       "    <tr style=\"text-align: right;\">\n",
       "      <th></th>\n",
       "      <th>0</th>\n",
       "    </tr>\n",
       "  </thead>\n",
       "  <tbody>\n",
       "    <tr>\n",
       "      <th>0</th>\n",
       "      <td>12.462 -7.8873</td>\n",
       "    </tr>\n",
       "    <tr>\n",
       "      <th>1</th>\n",
       "      <td>11.252 -7.1395</td>\n",
       "    </tr>\n",
       "    <tr>\n",
       "      <th>2</th>\n",
       "      <td>7.5973 -13.816</td>\n",
       "    </tr>\n",
       "    <tr>\n",
       "      <th>3</th>\n",
       "      <td>8.4997 -8.8071</td>\n",
       "    </tr>\n",
       "    <tr>\n",
       "      <th>4</th>\n",
       "      <td>11.533 -7.9426</td>\n",
       "    </tr>\n",
       "  </tbody>\n",
       "</table>\n",
       "</div>"
      ],
      "text/plain": [
       "                0\n",
       "0  12.462 -7.8873\n",
       "1  11.252 -7.1395\n",
       "2  7.5973 -13.816\n",
       "3  8.4997 -8.8071\n",
       "4  11.533 -7.9426"
      ]
     },
     "execution_count": 446,
     "metadata": {},
     "output_type": "execute_result"
    }
   ],
   "source": [
    "# reading class label 3 test data\n",
    "test_df3=pd.read_csv('linearly_seperable\\class3_test.txt',header=None)\n",
    "test_df3.head()"
   ]
  },
  {
   "cell_type": "code",
   "execution_count": 447,
   "metadata": {},
   "outputs": [],
   "source": [
    "# storing the points from the training dataframes in a 2-D array\n",
    "X1=[]\n",
    "for i in df1[0]:\n",
    "    lst=i.split(' ')\n",
    "    #print(lst)\n",
    "    X1.append([float(lst[0]),float(lst[1])])\n",
    "    \n",
    "X2=[]\n",
    "for i in df2[0]:\n",
    "    lst=i.split(' ')\n",
    "    #print(lst)\n",
    "    X2.append([float(lst[0]),float(lst[1])])\n",
    "\n",
    "X3=[]\n",
    "for i in df3[0]:\n",
    "    lst=i.split(' ')\n",
    "    #print(lst)\n",
    "    X3.append([float(lst[0]),float(lst[1])])"
   ]
  },
  {
   "cell_type": "code",
   "execution_count": 448,
   "metadata": {},
   "outputs": [],
   "source": [
    "# creating class labels for each training data\n",
    "y1_train=[0]*len(x1)\n",
    "y2_train=[1]*len(x2)\n",
    "y3_train=[2]*len(x3)"
   ]
  },
  {
   "cell_type": "code",
   "execution_count": 449,
   "metadata": {},
   "outputs": [],
   "source": [
    "# storing the points from the test dataframes in a 2-D array\n",
    "test_X1=[]\n",
    "for i in test_df1[0]:\n",
    "    lst=i.split(' ')\n",
    "    #print(lst)\n",
    "    test_X1.append([float(lst[0]),float(lst[1])])\n",
    "    \n",
    "test_X2=[]\n",
    "for i in test_df2[0]:\n",
    "    lst=i.split(' ')\n",
    "    #print(lst)\n",
    "    test_X2.append([float(lst[0]),float(lst[1])])\n",
    "\n",
    "test_X3=[]\n",
    "for i in test_df3[0]:\n",
    "    lst=i.split(' ')\n",
    "    #print(lst)\n",
    "    test_X3.append([float(lst[0]),float(lst[1])])"
   ]
  },
  {
   "cell_type": "code",
   "execution_count": 453,
   "metadata": {},
   "outputs": [],
   "source": [
    "# creating class labels for each test data\n",
    "y1_test=[0]*len(test_X1)\n",
    "y2_test=[1]*len(test_X2)\n",
    "y3_test=[2]*len(test_X3)"
   ]
  },
  {
   "cell_type": "code",
   "execution_count": 454,
   "metadata": {},
   "outputs": [],
   "source": [
    "# combining all the data\n",
    "X_train=np.array(X1+X2+X3)"
   ]
  },
  {
   "cell_type": "code",
   "execution_count": 455,
   "metadata": {},
   "outputs": [],
   "source": [
    "# combining all the labels\n",
    "y_train=np.array(y1_train+y2_train+y3_train)"
   ]
  },
  {
   "cell_type": "code",
   "execution_count": 456,
   "metadata": {},
   "outputs": [],
   "source": [
    "# combining all test data\n",
    "X_test=np.array(test_X1+test_X2+test_X3)"
   ]
  },
  {
   "cell_type": "code",
   "execution_count": 457,
   "metadata": {},
   "outputs": [],
   "source": [
    "# combining all test labels\n",
    "y_test=np.array(y1_test+y2_test+y3_test)"
   ]
  },
  {
   "cell_type": "code",
   "execution_count": 458,
   "metadata": {},
   "outputs": [
    {
     "data": {
      "text/plain": [
       "<__main__.Gaussian at 0x22357fe8850>"
      ]
     },
     "execution_count": 458,
     "metadata": {},
     "output_type": "execute_result"
    }
   ],
   "source": [
    "# calling the gaussian class\n",
    "new_model=Gaussian()\n",
    "\n",
    "# fitting the model with training data\n",
    "new_model.fit_model(X_train,y_train)"
   ]
  },
  {
   "cell_type": "code",
   "execution_count": 459,
   "metadata": {
    "scrolled": true
   },
   "outputs": [
    {
     "data": {
      "image/png": "[encoded data removed]",
      "text/plain": [
       "<Figure size 720x432 with 1 Axes>"
      ]
     },
     "metadata": {
      "needs_background": "light"
     },
     "output_type": "display_data"
    }
   ],
   "source": [
    "# defining the sice of the figure\n",
    "plt.figure(figsize=(10,6))\n",
    "\n",
    "# plotting the decision boundary for the training data\n",
    "plot_decision_regions(X_train,y_train,clf=new_model,legend=3)\n",
    "\n",
    "plt.title('Linearly separable dataset decision boundary.')\n",
    "\n",
    "# showing the plot\n",
    "plt.show()"
   ]
  },
  {
   "cell_type": "code",
   "execution_count": 460,
   "metadata": {},
   "outputs": [
    {
     "name": "stdout",
     "output_type": "stream",
     "text": [
      "Accuracy Score for the Train Data:-  1.0\n"
     ]
    }
   ],
   "source": [
    "# calculating the accuracy score for the training data\n",
    "print('Accuracy Score for the Train Data:- ',new_model.accuracy_score(X_train,y_train))"
   ]
  },
  {
   "cell_type": "code",
   "execution_count": 461,
   "metadata": {},
   "outputs": [
    {
     "name": "stdout",
     "output_type": "stream",
     "text": [
      "Accuracy Score for the Test Data:-  1.0\n"
     ]
    }
   ],
   "source": [
    "print('Accuracy Score for the Test Data:- ',new_model.accuracy_score(X_test,y_test))"
   ]
  },
  {
   "cell_type": "code",
   "execution_count": 462,
   "metadata": {},
   "outputs": [
    {
     "name": "stdout",
     "output_type": "stream",
     "text": [
      "Confusion matrix for Train Data:- \n"
     ]
    },
    {
     "data": {
      "text/plain": [
       "array([[650,   0,   0],\n",
       "       [  0, 650,   0],\n",
       "       [  0,   0, 400]], dtype=int64)"
      ]
     },
     "execution_count": 462,
     "metadata": {},
     "output_type": "execute_result"
    }
   ],
   "source": [
    "print('Confusion matrix for Train Data:- ')\n",
    "confusion_matrix(y_train,new_model.predict(X_train))"
   ]
  },
  {
   "cell_type": "code",
   "execution_count": 463,
   "metadata": {},
   "outputs": [
    {
     "name": "stdout",
     "output_type": "stream",
     "text": [
      "Confusion matrix for Test Data:- \n"
     ]
    },
    {
     "data": {
      "text/plain": [
       "array([[100,   0,   0],\n",
       "       [  0, 100,   0],\n",
       "       [  0,   0, 100]], dtype=int64)"
      ]
     },
     "execution_count": 463,
     "metadata": {},
     "output_type": "execute_result"
    }
   ],
   "source": [
    "print('Confusion matrix for Test Data:- ')\n",
    "confusion_matrix(y_test,new_model.predict(X_test))"
   ]
  },
  {
   "cell_type": "markdown",
   "metadata": {},
   "source": [
    "<b>Observation</b>\n",
    "\n",
    "the decision boundary for the linearly dependent dataset is linear."
   ]
  },
  {
   "cell_type": "markdown",
   "metadata": {},
   "source": [
    "# NON LINEARLY SEPARABLE"
   ]
  },
  {
   "cell_type": "code",
   "execution_count": 464,
   "metadata": {},
   "outputs": [
    {
     "data": {
      "text/html": [
       "<div>\n",
       "<style scoped>\n",
       "    .dataframe tbody tr th:only-of-type {\n",
       "        vertical-align: middle;\n",
       "    }\n",
       "\n",
       "    .dataframe tbody tr th {\n",
       "        vertical-align: top;\n",
       "    }\n",
       "\n",
       "    .dataframe thead th {\n",
       "        text-align: right;\n",
       "    }\n",
       "</style>\n",
       "<table border=\"1\" class=\"dataframe\">\n",
       "  <thead>\n",
       "    <tr style=\"text-align: right;\">\n",
       "      <th></th>\n",
       "      <th>0</th>\n",
       "    </tr>\n",
       "  </thead>\n",
       "  <tbody>\n",
       "    <tr>\n",
       "      <th>0</th>\n",
       "      <td>0.048798 0.37362</td>\n",
       "    </tr>\n",
       "    <tr>\n",
       "      <th>1</th>\n",
       "      <td>-0.18176 0.13342</td>\n",
       "    </tr>\n",
       "    <tr>\n",
       "      <th>2</th>\n",
       "      <td>-0.025269 -0.052231</td>\n",
       "    </tr>\n",
       "    <tr>\n",
       "      <th>3</th>\n",
       "      <td>0.74487 0.1391</td>\n",
       "    </tr>\n",
       "    <tr>\n",
       "      <th>4</th>\n",
       "      <td>0.077087 0.54539</td>\n",
       "    </tr>\n",
       "  </tbody>\n",
       "</table>\n",
       "</div>"
      ],
      "text/plain": [
       "                     0\n",
       "0     0.048798 0.37362\n",
       "1     -0.18176 0.13342\n",
       "2  -0.025269 -0.052231\n",
       "3       0.74487 0.1391\n",
       "4     0.077087 0.54539"
      ]
     },
     "execution_count": 464,
     "metadata": {},
     "output_type": "execute_result"
    }
   ],
   "source": [
    "# reading class label 1 training data\n",
    "data1=pd.read_csv('non_linearly_separable\\class1_train.txt',header=None)\n",
    "data1.head()\n"
   ]
  },
  {
   "cell_type": "code",
   "execution_count": 465,
   "metadata": {},
   "outputs": [
    {
     "data": {
      "text/html": [
       "<div>\n",
       "<style scoped>\n",
       "    .dataframe tbody tr th:only-of-type {\n",
       "        vertical-align: middle;\n",
       "    }\n",
       "\n",
       "    .dataframe tbody tr th {\n",
       "        vertical-align: top;\n",
       "    }\n",
       "\n",
       "    .dataframe thead th {\n",
       "        text-align: right;\n",
       "    }\n",
       "</style>\n",
       "<table border=\"1\" class=\"dataframe\">\n",
       "  <thead>\n",
       "    <tr style=\"text-align: right;\">\n",
       "      <th></th>\n",
       "      <th>0</th>\n",
       "    </tr>\n",
       "  </thead>\n",
       "  <tbody>\n",
       "    <tr>\n",
       "      <th>0</th>\n",
       "      <td>-1.9411 -0.17251</td>\n",
       "    </tr>\n",
       "    <tr>\n",
       "      <th>1</th>\n",
       "      <td>-0.99098 -1.3337</td>\n",
       "    </tr>\n",
       "    <tr>\n",
       "      <th>2</th>\n",
       "      <td>-0.31998 1.6535</td>\n",
       "    </tr>\n",
       "    <tr>\n",
       "      <th>3</th>\n",
       "      <td>1.7951 0.67645</td>\n",
       "    </tr>\n",
       "    <tr>\n",
       "      <th>4</th>\n",
       "      <td>1.6554 -0.76927</td>\n",
       "    </tr>\n",
       "  </tbody>\n",
       "</table>\n",
       "</div>"
      ],
      "text/plain": [
       "                  0\n",
       "0  -1.9411 -0.17251\n",
       "1  -0.99098 -1.3337\n",
       "2   -0.31998 1.6535\n",
       "3    1.7951 0.67645\n",
       "4   1.6554 -0.76927"
      ]
     },
     "execution_count": 465,
     "metadata": {},
     "output_type": "execute_result"
    }
   ],
   "source": [
    "# reading class label 2 training data\n",
    "data2=pd.read_csv('non_linearly_separable\\class2_train.txt',header=None)\n",
    "data2.head()"
   ]
  },
  {
   "cell_type": "code",
   "execution_count": 466,
   "metadata": {},
   "outputs": [
    {
     "data": {
      "text/html": [
       "<div>\n",
       "<style scoped>\n",
       "    .dataframe tbody tr th:only-of-type {\n",
       "        vertical-align: middle;\n",
       "    }\n",
       "\n",
       "    .dataframe tbody tr th {\n",
       "        vertical-align: top;\n",
       "    }\n",
       "\n",
       "    .dataframe thead th {\n",
       "        text-align: right;\n",
       "    }\n",
       "</style>\n",
       "<table border=\"1\" class=\"dataframe\">\n",
       "  <thead>\n",
       "    <tr style=\"text-align: right;\">\n",
       "      <th></th>\n",
       "      <th>0</th>\n",
       "    </tr>\n",
       "  </thead>\n",
       "  <tbody>\n",
       "    <tr>\n",
       "      <th>0</th>\n",
       "      <td>2.9854 0.68723</td>\n",
       "    </tr>\n",
       "    <tr>\n",
       "      <th>1</th>\n",
       "      <td>-2.2608 -1.4912</td>\n",
       "    </tr>\n",
       "    <tr>\n",
       "      <th>2</th>\n",
       "      <td>3.1043 0.57452</td>\n",
       "    </tr>\n",
       "    <tr>\n",
       "      <th>3</th>\n",
       "      <td>-2.5302 1.4384</td>\n",
       "    </tr>\n",
       "    <tr>\n",
       "      <th>4</th>\n",
       "      <td>2.8565 -1.0506</td>\n",
       "    </tr>\n",
       "  </tbody>\n",
       "</table>\n",
       "</div>"
      ],
      "text/plain": [
       "                 0\n",
       "0   2.9854 0.68723\n",
       "1  -2.2608 -1.4912\n",
       "2   3.1043 0.57452\n",
       "3   -2.5302 1.4384\n",
       "4   2.8565 -1.0506"
      ]
     },
     "execution_count": 466,
     "metadata": {},
     "output_type": "execute_result"
    }
   ],
   "source": [
    "# reading class label 3 training data\n",
    "data3=pd.read_csv('non_linearly_separable\\class3_train.txt',header=None)\n",
    "data3.head()"
   ]
  },
  {
   "cell_type": "code",
   "execution_count": 467,
   "metadata": {},
   "outputs": [
    {
     "data": {
      "text/html": [
       "<div>\n",
       "<style scoped>\n",
       "    .dataframe tbody tr th:only-of-type {\n",
       "        vertical-align: middle;\n",
       "    }\n",
       "\n",
       "    .dataframe tbody tr th {\n",
       "        vertical-align: top;\n",
       "    }\n",
       "\n",
       "    .dataframe thead th {\n",
       "        text-align: right;\n",
       "    }\n",
       "</style>\n",
       "<table border=\"1\" class=\"dataframe\">\n",
       "  <thead>\n",
       "    <tr style=\"text-align: right;\">\n",
       "      <th></th>\n",
       "      <th>0</th>\n",
       "    </tr>\n",
       "  </thead>\n",
       "  <tbody>\n",
       "    <tr>\n",
       "      <th>0</th>\n",
       "      <td>0.73009 0.078425</td>\n",
       "    </tr>\n",
       "    <tr>\n",
       "      <th>1</th>\n",
       "      <td>0.074469 -0.61517</td>\n",
       "    </tr>\n",
       "    <tr>\n",
       "      <th>2</th>\n",
       "      <td>0.68417 -0.003052</td>\n",
       "    </tr>\n",
       "    <tr>\n",
       "      <th>3</th>\n",
       "      <td>0.34958 0.36088</td>\n",
       "    </tr>\n",
       "    <tr>\n",
       "      <th>4</th>\n",
       "      <td>-0.72753 0.24602</td>\n",
       "    </tr>\n",
       "  </tbody>\n",
       "</table>\n",
       "</div>"
      ],
      "text/plain": [
       "                   0\n",
       "0   0.73009 0.078425\n",
       "1  0.074469 -0.61517\n",
       "2  0.68417 -0.003052\n",
       "3    0.34958 0.36088\n",
       "4   -0.72753 0.24602"
      ]
     },
     "execution_count": 467,
     "metadata": {},
     "output_type": "execute_result"
    }
   ],
   "source": [
    "# reading class label 1 test data\n",
    "test_data1=pd.read_csv('non_linearly_separable\\class1_test.txt',header=None)\n",
    "test_data1.head()"
   ]
  },
  {
   "cell_type": "code",
   "execution_count": 468,
   "metadata": {},
   "outputs": [
    {
     "data": {
      "text/html": [
       "<div>\n",
       "<style scoped>\n",
       "    .dataframe tbody tr th:only-of-type {\n",
       "        vertical-align: middle;\n",
       "    }\n",
       "\n",
       "    .dataframe tbody tr th {\n",
       "        vertical-align: top;\n",
       "    }\n",
       "\n",
       "    .dataframe thead th {\n",
       "        text-align: right;\n",
       "    }\n",
       "</style>\n",
       "<table border=\"1\" class=\"dataframe\">\n",
       "  <thead>\n",
       "    <tr style=\"text-align: right;\">\n",
       "      <th></th>\n",
       "      <th>0</th>\n",
       "    </tr>\n",
       "  </thead>\n",
       "  <tbody>\n",
       "    <tr>\n",
       "      <th>0</th>\n",
       "      <td>1.1193 -1.0849</td>\n",
       "    </tr>\n",
       "    <tr>\n",
       "      <th>1</th>\n",
       "      <td>1.1588 -1.1521</td>\n",
       "    </tr>\n",
       "    <tr>\n",
       "      <th>2</th>\n",
       "      <td>0.66555 1.5169</td>\n",
       "    </tr>\n",
       "    <tr>\n",
       "      <th>3</th>\n",
       "      <td>-0.5034 -1.767</td>\n",
       "    </tr>\n",
       "    <tr>\n",
       "      <th>4</th>\n",
       "      <td>-1.3497 1.2245</td>\n",
       "    </tr>\n",
       "  </tbody>\n",
       "</table>\n",
       "</div>"
      ],
      "text/plain": [
       "                0\n",
       "0  1.1193 -1.0849\n",
       "1  1.1588 -1.1521\n",
       "2  0.66555 1.5169\n",
       "3  -0.5034 -1.767\n",
       "4  -1.3497 1.2245"
      ]
     },
     "execution_count": 468,
     "metadata": {},
     "output_type": "execute_result"
    }
   ],
   "source": [
    "# reading class label 2 test data\n",
    "test_data2=pd.read_csv('non_linearly_separable\\class2_test.txt',header=None)\n",
    "test_data2.head()"
   ]
  },
  {
   "cell_type": "code",
   "execution_count": 470,
   "metadata": {},
   "outputs": [
    {
     "data": {
      "text/html": [
       "<div>\n",
       "<style scoped>\n",
       "    .dataframe tbody tr th:only-of-type {\n",
       "        vertical-align: middle;\n",
       "    }\n",
       "\n",
       "    .dataframe tbody tr th {\n",
       "        vertical-align: top;\n",
       "    }\n",
       "\n",
       "    .dataframe thead th {\n",
       "        text-align: right;\n",
       "    }\n",
       "</style>\n",
       "<table border=\"1\" class=\"dataframe\">\n",
       "  <thead>\n",
       "    <tr style=\"text-align: right;\">\n",
       "      <th></th>\n",
       "      <th>0</th>\n",
       "    </tr>\n",
       "  </thead>\n",
       "  <tbody>\n",
       "    <tr>\n",
       "      <th>0</th>\n",
       "      <td>1.7479 -2.3017</td>\n",
       "    </tr>\n",
       "    <tr>\n",
       "      <th>1</th>\n",
       "      <td>-0.75973 -2.7761</td>\n",
       "    </tr>\n",
       "    <tr>\n",
       "      <th>2</th>\n",
       "      <td>-2.7391 -1.3874</td>\n",
       "    </tr>\n",
       "    <tr>\n",
       "      <th>3</th>\n",
       "      <td>1.375 2.2578</td>\n",
       "    </tr>\n",
       "    <tr>\n",
       "      <th>4</th>\n",
       "      <td>2.664 -1.2985</td>\n",
       "    </tr>\n",
       "  </tbody>\n",
       "</table>\n",
       "</div>"
      ],
      "text/plain": [
       "                  0\n",
       "0    1.7479 -2.3017\n",
       "1  -0.75973 -2.7761\n",
       "2   -2.7391 -1.3874\n",
       "3      1.375 2.2578\n",
       "4     2.664 -1.2985"
      ]
     },
     "execution_count": 470,
     "metadata": {},
     "output_type": "execute_result"
    }
   ],
   "source": [
    "# reading class label 3 test data\n",
    "test_data3=pd.read_csv('non_linearly_separable\\class3_test.txt',header=None)\n",
    "test_data3.head()"
   ]
  },
  {
   "cell_type": "code",
   "execution_count": 471,
   "metadata": {},
   "outputs": [],
   "source": [
    "# storing the points from the training dataframes in a 2-D array\n",
    "n_X1=[]\n",
    "for i in data1[0]:\n",
    "    lst=i.split(' ')\n",
    "    n_X1.append([float(lst[0]),float(lst[1])])\n",
    "    \n",
    "n_X2=[]\n",
    "for i in data2[0]:\n",
    "    lst=i.split(' ')\n",
    "    n_X2.append([float(lst[0]),float(lst[1])])\n",
    "\n",
    "n_X3=[]\n",
    "for i in data3[0]:\n",
    "    lst=i.split(' ')\n",
    "    n_X3.append([float(lst[0]),float(lst[1])])"
   ]
  },
  {
   "cell_type": "code",
   "execution_count": 472,
   "metadata": {},
   "outputs": [],
   "source": [
    "# creating class labels for each training data\n",
    "n_y1=[0]*len(data1)\n",
    "n_y2=[1]*len(data2)\n",
    "n_y3=[2]*len(data3)"
   ]
  },
  {
   "cell_type": "code",
   "execution_count": 473,
   "metadata": {},
   "outputs": [],
   "source": [
    "# combining all the data\n",
    "n_X_train=np.array(n_X1+n_X2+n_X3)"
   ]
  },
  {
   "cell_type": "code",
   "execution_count": 474,
   "metadata": {},
   "outputs": [],
   "source": [
    "# combining all the labels\n",
    "n_y_train=np.array(n_y1+n_y2+n_y3)"
   ]
  },
  {
   "cell_type": "code",
   "execution_count": 475,
   "metadata": {},
   "outputs": [],
   "source": [
    "# storing the points from the test dataframes in a 2-D array\n",
    "n_test_X1=[]\n",
    "for i in test_data1[0]:\n",
    "    lst=i.split(' ')\n",
    "    #print(lst)\n",
    "    n_test_X1.append([float(lst[0]),float(lst[1])])\n",
    "    \n",
    "n_test_X2=[]\n",
    "for i in test_data2[0]:\n",
    "    lst=i.split(' ')\n",
    "    #print(lst)\n",
    "    n_test_X2.append([float(lst[0]),float(lst[1])])\n",
    "\n",
    "n_test_X3=[]\n",
    "for i in test_data3[0]:\n",
    "    lst=i.split(' ')\n",
    "    #print(lst)\n",
    "    n_test_X3.append([float(lst[0]),float(lst[1])])"
   ]
  },
  {
   "cell_type": "code",
   "execution_count": 476,
   "metadata": {},
   "outputs": [],
   "source": [
    "# creating class labels for each test data\n",
    "n_y1_test=[0]*len(n_test_X1)\n",
    "n_y2_test=[1]*len(n_test_X2)\n",
    "n_y3_test=[2]*len(n_test_X3)"
   ]
  },
  {
   "cell_type": "code",
   "execution_count": 477,
   "metadata": {},
   "outputs": [],
   "source": [
    "# combining all the test data\n",
    "n_X_test=np.array(n_test_X1+n_test_X2+n_test_X3)"
   ]
  },
  {
   "cell_type": "code",
   "execution_count": 478,
   "metadata": {},
   "outputs": [],
   "source": [
    "# combining all the test labels\n",
    "n_y_test=np.array(n_y1_test+n_y2_test+n_y3_test)"
   ]
  },
  {
   "cell_type": "code",
   "execution_count": 479,
   "metadata": {},
   "outputs": [
    {
     "data": {
      "text/plain": [
       "<__main__.Gaussian at 0x223595d9d00>"
      ]
     },
     "execution_count": 479,
     "metadata": {},
     "output_type": "execute_result"
    }
   ],
   "source": [
    "# calling the gaussian class\n",
    "n_new_model=Gaussian()\n",
    "\n",
    "# fitting the model with training data\n",
    "n_new_model.fit_model(n_X_train,n_y_train)\n"
   ]
  },
  {
   "cell_type": "markdown",
   "metadata": {},
   "source": [
    "<b>1) decision region plots learnt by the classifier (Plots should have train data superimposed in the figure and should have proper labelings and title)\n",
    "</b>"
   ]
  },
  {
   "cell_type": "code",
   "execution_count": 480,
   "metadata": {},
   "outputs": [
    {
     "data": {
      "image/png": "[encoded data removed]",
      "text/plain": [
       "<Figure size 720x432 with 1 Axes>"
      ]
     },
     "metadata": {
      "needs_background": "light"
     },
     "output_type": "display_data"
    }
   ],
   "source": [
    "# defining the size of figure\n",
    "plt.figure(figsize=(10,6))\n",
    "\n",
    "# plotting the decision boundary for the training data\n",
    "plot_decision_regions(n_X_train,n_y_train,clf=n_new_model,legend=3)\n",
    "\n",
    "plt.title('Non linearly separable dataset decision boundary.')\n",
    "# showing the plot\n",
    "plt.show()"
   ]
  },
  {
   "cell_type": "markdown",
   "metadata": {},
   "source": [
    "<b>2)accuracy values for train data and test data</b>"
   ]
  },
  {
   "cell_type": "code",
   "execution_count": 481,
   "metadata": {},
   "outputs": [
    {
     "name": "stdout",
     "output_type": "stream",
     "text": [
      "Accuracy score for Train Data:-  1.0\n"
     ]
    }
   ],
   "source": [
    "print('Accuracy score for Train Data:- ',n_new_model.accuracy_score(n_X_train,n_y_train))"
   ]
  },
  {
   "cell_type": "code",
   "execution_count": 482,
   "metadata": {},
   "outputs": [
    {
     "name": "stdout",
     "output_type": "stream",
     "text": [
      "Accuracy score for Test Data:-  1.0\n"
     ]
    }
   ],
   "source": [
    "print('Accuracy score for Test Data:- ',n_new_model.accuracy_score(n_X_test,n_y_test))"
   ]
  },
  {
   "cell_type": "markdown",
   "metadata": {},
   "source": [
    "<b>3) confusion matrix for train and test data</b>"
   ]
  },
  {
   "cell_type": "code",
   "execution_count": 483,
   "metadata": {},
   "outputs": [
    {
     "name": "stdout",
     "output_type": "stream",
     "text": [
      "Confusion matrix for Train Data:- \n"
     ]
    },
    {
     "data": {
      "text/plain": [
       "array([[390,   0,   0],\n",
       "       [  0, 780,   0],\n",
       "       [  0,   0, 640]], dtype=int64)"
      ]
     },
     "execution_count": 483,
     "metadata": {},
     "output_type": "execute_result"
    }
   ],
   "source": [
    "print('Confusion matrix for Train Data:- ')\n",
    "confusion_matrix(n_y_train,n_new_model.predict(n_X_train))"
   ]
  },
  {
   "cell_type": "code",
   "execution_count": 484,
   "metadata": {},
   "outputs": [
    {
     "name": "stdout",
     "output_type": "stream",
     "text": [
      "Confusion matrix for Test Data:- \n"
     ]
    },
    {
     "data": {
      "text/plain": [
       "array([[ 60,   0,   0],\n",
       "       [  0, 120,   0],\n",
       "       [  0,   0, 160]], dtype=int64)"
      ]
     },
     "execution_count": 484,
     "metadata": {},
     "output_type": "execute_result"
    }
   ],
   "source": [
    "print('Confusion matrix for Test Data:- ')\n",
    "confusion_matrix(n_y_test,n_new_model.predict(n_X_test))"
   ]
  },
  {
   "cell_type": "markdown",
   "metadata": {},
   "source": [
    "<b>Observation</b>\n",
    "\n",
    "the decision boundary for the non linearly dependent dataset is not linear, it's in the form of a circle."
   ]
  },
  {
   "cell_type": "code",
   "execution_count": null,
   "metadata": {},
   "outputs": [],
   "source": []
  }
 ],
 "metadata": {
  "kernelspec": {
   "display_name": "Python 3",
   "language": "python",
   "name": "python3"
  },
  "language_info": {
   "codemirror_mode": {
    "name": "ipython",
    "version": 3
   },
   "file_extension": ".py",
   "mimetype": "text/x-python",
   "name": "python",
   "nbconvert_exporter": "python",
   "pygments_lexer": "ipython3",
   "version": "3.8.6"
  }
 },
 "nbformat": 4,
 "nbformat_minor": 4
}
