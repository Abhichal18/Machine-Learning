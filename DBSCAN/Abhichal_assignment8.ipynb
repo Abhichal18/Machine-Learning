{
 "cells": [
  {
   "cell_type": "code",
   "execution_count": 1,
   "metadata": {},
   "outputs": [],
   "source": [
    "# importing necessary modules\n",
    "import pandas as pd\n",
    "import numpy as np\n",
    "import matplotlib.pyplot as plt\n",
    "from sklearn.cluster import DBSCAN\n",
    "from sklearn import metrics\n",
    "from itertools import cycle, islice"
   ]
  },
  {
   "cell_type": "markdown",
   "metadata": {},
   "source": [
    "<b>(a) Task 1:[2 marks] <br>\n",
    "Apply DBSCAN on the dataset given in data.csv to group the data into clusters and also\n",
    "predict the outliers (noise points). Plot in 2D the clusters obtained along with the noise points for a clear\n",
    "visualisation.</b>"
   ]
  },
  {
   "cell_type": "code",
   "execution_count": 2,
   "metadata": {},
   "outputs": [
    {
     "data": {
      "text/html": [
       "<div>\n",
       "<style scoped>\n",
       "    .dataframe tbody tr th:only-of-type {\n",
       "        vertical-align: middle;\n",
       "    }\n",
       "\n",
       "    .dataframe tbody tr th {\n",
       "        vertical-align: top;\n",
       "    }\n",
       "\n",
       "    .dataframe thead th {\n",
       "        text-align: right;\n",
       "    }\n",
       "</style>\n",
       "<table border=\"1\" class=\"dataframe\">\n",
       "  <thead>\n",
       "    <tr style=\"text-align: right;\">\n",
       "      <th></th>\n",
       "      <th>0</th>\n",
       "      <th>1</th>\n",
       "    </tr>\n",
       "  </thead>\n",
       "  <tbody>\n",
       "    <tr>\n",
       "      <th>0</th>\n",
       "      <td>3.06</td>\n",
       "      <td>5.64</td>\n",
       "    </tr>\n",
       "    <tr>\n",
       "      <th>1</th>\n",
       "      <td>2.76</td>\n",
       "      <td>4.38</td>\n",
       "    </tr>\n",
       "    <tr>\n",
       "      <th>2</th>\n",
       "      <td>3.24</td>\n",
       "      <td>5.68</td>\n",
       "    </tr>\n",
       "    <tr>\n",
       "      <th>3</th>\n",
       "      <td>3.49</td>\n",
       "      <td>7.80</td>\n",
       "    </tr>\n",
       "    <tr>\n",
       "      <th>4</th>\n",
       "      <td>2.69</td>\n",
       "      <td>4.32</td>\n",
       "    </tr>\n",
       "  </tbody>\n",
       "</table>\n",
       "</div>"
      ],
      "text/plain": [
       "      0     1\n",
       "0  3.06  5.64\n",
       "1  2.76  4.38\n",
       "2  3.24  5.68\n",
       "3  3.49  7.80\n",
       "4  2.69  4.32"
      ]
     },
     "execution_count": 2,
     "metadata": {},
     "output_type": "execute_result"
    }
   ],
   "source": [
    "# reading the dataset\n",
    "df=pd.read_csv('data.csv',header=None)\n",
    "df.head()"
   ]
  },
  {
   "cell_type": "code",
   "execution_count": 3,
   "metadata": {},
   "outputs": [
    {
     "data": {
      "text/plain": [
       "(178, 2)"
      ]
     },
     "execution_count": 3,
     "metadata": {},
     "output_type": "execute_result"
    }
   ],
   "source": [
    "# checking the shape\n",
    "df.shape"
   ]
  },
  {
   "cell_type": "code",
   "execution_count": 4,
   "metadata": {},
   "outputs": [
    {
     "data": {
      "text/plain": [
       "<matplotlib.collections.PathCollection at 0x248659cb7c0>"
      ]
     },
     "execution_count": 4,
     "metadata": {},
     "output_type": "execute_result"
    },
    {
     "data": {
      "image/png": "[encoded data removed]",
      "text/plain": [
       "<Figure size 432x288 with 1 Axes>"
      ]
     },
     "metadata": {
      "needs_background": "light"
     },
     "output_type": "display_data"
    }
   ],
   "source": [
    "# plotting the raw data\n",
    "plt.scatter(df[0],df[1])"
   ]
  },
  {
   "cell_type": "code",
   "execution_count": null,
   "metadata": {},
   "outputs": [],
   "source": []
  },
  {
   "cell_type": "code",
   "execution_count": 7,
   "metadata": {},
   "outputs": [],
   "source": [
    "# utility function to draw the clustered diagram\n",
    "def plot_result(labels, core_samples_mask):\n",
    "    # Black removed and is used for noise instead.\n",
    "    unique_labels = set(labels)\n",
    "    colors = [plt.cm.Spectral(each)\n",
    "            for each in np.linspace(0, 1, len(unique_labels))]\n",
    "    for k, col in zip(unique_labels, colors):\n",
    "        if k == -1:\n",
    "            # Black used for noise.\n",
    "            col = [0, 0, 0, 1]\n",
    "\n",
    "        class_member_mask = (labels == k)\n",
    "\n",
    "        # Plot core points\n",
    "        xy = df[class_member_mask & core_samples_mask]\n",
    "        plt.plot(xy[0], xy[1], 'o', markerfacecolor=tuple(col),\n",
    "                markeredgecolor='k', markersize=14)\n",
    "\n",
    "        # Plot non-core points\n",
    "        xy = df[class_member_mask & ~core_samples_mask]\n",
    "        plt.plot(xy[0], xy[1], 'o', markerfacecolor=tuple(col),\n",
    "                markeredgecolor='k', markersize=6)\n",
    "\n",
    "    plt.title('Estimated number of clusters: %d' % n_clusters_)\n",
    "    plt.show()\n",
    "    plt.close()"
   ]
  },
  {
   "cell_type": "markdown",
   "metadata": {},
   "source": [
    "# Checking what can be the number of clusters using kmeans and Silhoutte Score"
   ]
  },
  {
   "cell_type": "code",
   "execution_count": 9,
   "metadata": {},
   "outputs": [],
   "source": [
    "from sklearn.metrics import silhouette_samples,silhouette_score\n",
    "from sklearn.cluster import KMeans"
   ]
  },
  {
   "cell_type": "code",
   "execution_count": 10,
   "metadata": {},
   "outputs": [
    {
     "name": "stdout",
     "output_type": "stream",
     "text": [
      "for cluster 2 Score: 0.5387883327231593\n",
      "for cluster 3 Score: 0.46388634214287316\n",
      "for cluster 4 Score: 0.49955447708073825\n",
      "for cluster 5 Score: 0.4740869762697968\n",
      "for cluster 6 Score: 0.47230674498076974\n",
      "for cluster 7 Score: 0.4578588542652103\n",
      "for cluster 8 Score: 0.40588476107493787\n",
      "for cluster 9 Score: 0.4152926036278493\n",
      "for cluster 10 Score: 0.39056018698435535\n",
      "for cluster 11 Score: 0.3939606731343\n",
      "for cluster 12 Score: 0.37240005353782146\n",
      "for cluster 13 Score: 0.3841331331125331\n",
      "for cluster 14 Score: 0.3754826497721325\n",
      "for cluster 15 Score: 0.3824094892283092\n",
      "for cluster 16 Score: 0.38912996748671697\n",
      "for cluster 17 Score: 0.37284024279883193\n",
      "for cluster 18 Score: 0.37836918093975475\n"
     ]
    }
   ],
   "source": [
    "clusters=[2,3,4,5,6,7,8,9,10,11,12,13,14,15,16,17,18]\n",
    "for i in clusters:\n",
    "    clust=KMeans(n_clusters=i)\n",
    "    labels=clust.fit_predict(df)\n",
    "    silhouetteScore=silhouette_score(df,labels)\n",
    "    print('for cluster',i,'Score:',silhouetteScore)"
   ]
  },
  {
   "cell_type": "markdown",
   "metadata": {},
   "source": [
    "<b>Best Silhouette Score is for Cluster 2. So, 2 can be an optimal choice.</b>"
   ]
  },
  {
   "cell_type": "markdown",
   "metadata": {},
   "source": [
    "# Using Euclidean Distance Method for finding optimal epsilon distance"
   ]
  },
  {
   "cell_type": "code",
   "execution_count": 11,
   "metadata": {},
   "outputs": [
    {
     "data": {
      "image/png": "[encoded data removed]",
      "text/plain": [
       "<Figure size 432x288 with 1 Axes>"
      ]
     },
     "metadata": {
      "needs_background": "light"
     },
     "output_type": "display_data"
    }
   ],
   "source": [
    "df=df.sort_values(by=[0,1])\n",
    "df2=pd.DataFrame(columns=['index','distance'])\n",
    "\n",
    "for i in range(len(df)-1):\n",
    "    distance=np.linalg.norm(df.iloc[i]-df.iloc[i+1])\n",
    "    df2=df2.append({'index':str(i),'distance':distance},ignore_index=True)\n",
    "\n",
    "df2=df2.sort_values(by=['distance'])\n",
    "plt.scatter(df2['index'],df2['distance'])\n",
    "plt.show()"
   ]
  },
  {
   "cell_type": "code",
   "execution_count": 12,
   "metadata": {},
   "outputs": [
    {
     "data": {
      "image/png": "[encoded data removed]",
      "text/plain": [
       "<Figure size 432x288 with 1 Axes>"
      ]
     },
     "metadata": {
      "needs_background": "light"
     },
     "output_type": "display_data"
    }
   ],
   "source": [
    "df3=df2[df2['distance']<1]\n",
    "df3=df3.sort_values(by=['distance'])\n",
    "plt.scatter(df3['index'],df3['distance'])\n",
    "plt.show()"
   ]
  },
  {
   "cell_type": "markdown",
   "metadata": {},
   "source": [
    "## Using Silhouette distance to find optimal eps"
   ]
  },
  {
   "cell_type": "code",
   "execution_count": 24,
   "metadata": {},
   "outputs": [
    {
     "name": "stdout",
     "output_type": "stream",
     "text": [
      "eps_value:  0.2\n",
      "score:  -0.3408962242787458\n",
      "----------------\n",
      "eps_value:  0.3\n",
      "score:  -0.015251949159553257\n",
      "----------------\n",
      "eps_value:  0.4\n",
      "score:  0.15541208570072812\n",
      "----------------\n",
      "eps_value:  0.5\n",
      "score:  0.24492805636970322\n",
      "----------------\n",
      "eps_value:  0.6\n",
      "score:  0.2668265387898636\n",
      "----------------\n",
      "eps_value:  0.7\n",
      "score:  0.5151581850406296\n",
      "----------------\n",
      "eps_value:  0.8\n",
      "score:  0.5161430699867074\n",
      "----------------\n",
      "eps_value:  0.9\n",
      "score:  0.43874626179571646\n",
      "----------------\n"
     ]
    }
   ],
   "source": [
    "eps_range=[0.2,0.3,0.4,0.5,0.6,0.7,0.8,0.9]\n",
    "for i in eps_range:\n",
    "    print('eps_value: ',i)\n",
    "    model=DBSCAN(eps=i,min_samples=5).fit(df)\n",
    "    core_samples_mask=np.zeros_like(model.labels_,dtype=bool)\n",
    "    core_samples_mask[model.core_sample_indices_] = True\n",
    "    labels = model.labels_\n",
    "    silhouette_avg=silhouette_score(df,labels)\n",
    "    print('score: ',silhouette_avg)\n",
    "    print('----------------')"
   ]
  },
  {
   "cell_type": "markdown",
   "metadata": {},
   "source": [
    "<b>From above we can see that optimal value for eps is 0.8 having maximum vale of Silhouette score</b>"
   ]
  },
  {
   "cell_type": "markdown",
   "metadata": {},
   "source": [
    "# Finding optimal min_sample value"
   ]
  },
  {
   "cell_type": "code",
   "execution_count": 25,
   "metadata": {},
   "outputs": [
    {
     "name": "stdout",
     "output_type": "stream",
     "text": [
      "min_sample 1\n",
      "no of cluster 5\n",
      "-----------\n",
      "min_sample 2\n",
      "no of cluster 2\n",
      "-----------\n",
      "min_sample 3\n",
      "no of cluster 1\n",
      "-----------\n",
      "min_sample 4\n",
      "no of cluster 1\n",
      "-----------\n",
      "min_sample 5\n",
      "no of cluster 2\n",
      "-----------\n",
      "min_sample 6\n",
      "no of cluster 2\n",
      "-----------\n",
      "min_sample 7\n",
      "no of cluster 2\n",
      "-----------\n",
      "min_sample 8\n",
      "no of cluster 2\n",
      "-----------\n",
      "min_sample 9\n",
      "no of cluster 2\n",
      "-----------\n",
      "min_sample 10\n",
      "no of cluster 2\n",
      "-----------\n"
     ]
    }
   ],
   "source": [
    "min_samples=[1,2,3,4,5,6,7,8,9,10]\n",
    "for i in min_samples:\n",
    "    print('min_sample',i)\n",
    "    model=DBSCAN(eps=0.8,min_samples=i).fit(df)\n",
    "    core_samples_mask=np.zeros_like(model.labels_,dtype=bool)\n",
    "    core_samples_mask[model.core_sample_indices_] = True\n",
    "    \n",
    "    labels=set([label for label in model.labels_ if label>=0])\n",
    "    print('no of cluster',len(set(labels)))\n",
    "    print('-----------')"
   ]
  },
  {
   "cell_type": "markdown",
   "metadata": {},
   "source": [
    "# Applying DBSCAN"
   ]
  },
  {
   "cell_type": "code",
   "execution_count": 50,
   "metadata": {},
   "outputs": [],
   "source": [
    "model=DBSCAN(eps=0.8,min_samples=5).fit(df)\n",
    "core_samples_mask=np.zeros_like(model.labels_,dtype=bool)\n",
    "core_samples_mask[model.core_sample_indices_] = True\n",
    "labels = model.labels_"
   ]
  },
  {
   "cell_type": "code",
   "execution_count": 51,
   "metadata": {},
   "outputs": [],
   "source": [
    "n_clusters_ = len(set(labels)) - (1 if -1 in labels else 0)\n",
    "n_noise_ = list(labels).count(-1)"
   ]
  },
  {
   "cell_type": "markdown",
   "metadata": {},
   "source": [
    "# printing 2 D plot of clusters"
   ]
  },
  {
   "cell_type": "code",
   "execution_count": 52,
   "metadata": {},
   "outputs": [
    {
     "data": {
      "image/png": "[encoded data removed]",
      "text/plain": [
       "<Figure size 432x288 with 1 Axes>"
      ]
     },
     "metadata": {
      "needs_background": "light"
     },
     "output_type": "display_data"
    },
    {
     "name": "stdout",
     "output_type": "stream",
     "text": [
      "Estimated number of clusters: 2\n",
      "Estimated number of noise points: 5\n"
     ]
    }
   ],
   "source": [
    "plot_result(labels, core_samples_mask)\n",
    "print('Estimated number of clusters: %d' % n_clusters_)\n",
    "print('Estimated number of noise points: %d' % n_noise_)\n"
   ]
  },
  {
   "cell_type": "code",
   "execution_count": 33,
   "metadata": {},
   "outputs": [
    {
     "name": "stdout",
     "output_type": "stream",
     "text": [
      "[ 0  0  0  0  0  0  0  1  0  0  0  0  0  1  1  0  0  0  1  1  1  1  1  1\n",
      "  1  1  0  1  1  1  1  1  0  1  1  1  1  1  1  0  0  0  0 -1  0  0  0  0\n",
      "  0  0  1  0 -1  0  0  1  1  0  0  0  0  1  0  0  0  0  0  0  0  0  0  0\n",
      "  0  0  0  0  0  0  0  0  0  0  0  0  0  0  0  0  0  0  0  0  0  0  0  0\n",
      "  0  0  0  0  0  0  0  0  0  0  0  0  0  0  0  0  0  0  0  0  0  0  0  0\n",
      "  0  0  0  0  0  0  0  0  0  0  0  0  0  0  0  0  0  0  0  0  0  0  0  0\n",
      "  0  0  0  0  0  0  0  0  0  0  0  0  0  0  0  0  0  0  0  0  0  0  0  0\n",
      "  0 -1  0  0  0  0  0  0 -1 -1]\n"
     ]
    }
   ],
   "source": [
    "print(labels)"
   ]
  },
  {
   "cell_type": "markdown",
   "metadata": {},
   "source": [
    "<b>(b) Task 2:[1 mark] <br>\n",
    "Add a column \"Outliers\" in data.csv which will contain value -1 for noise points and value\n",
    "0 otherwise. You have to rename data.csv to Firstname Lastname assignment8.csv and submit. Marks will\n",
    "be given to best 5 noise point predictions.</b>"
   ]
  },
  {
   "cell_type": "code",
   "execution_count": 57,
   "metadata": {},
   "outputs": [],
   "source": [
    "outliers=labels[:]"
   ]
  },
  {
   "cell_type": "code",
   "execution_count": 58,
   "metadata": {},
   "outputs": [],
   "source": [
    "for i in range(len(outliers)):\n",
    "    if outliers[i]!=-1:\n",
    "        outliers[i]=0"
   ]
  },
  {
   "cell_type": "code",
   "execution_count": 65,
   "metadata": {},
   "outputs": [],
   "source": [
    "outliers=pd.Series(outliers,name=\"Outliers\")"
   ]
  },
  {
   "cell_type": "code",
   "execution_count": 66,
   "metadata": {},
   "outputs": [
    {
     "data": {
      "text/html": [
       "<div>\n",
       "<style scoped>\n",
       "    .dataframe tbody tr th:only-of-type {\n",
       "        vertical-align: middle;\n",
       "    }\n",
       "\n",
       "    .dataframe tbody tr th {\n",
       "        vertical-align: top;\n",
       "    }\n",
       "\n",
       "    .dataframe thead th {\n",
       "        text-align: right;\n",
       "    }\n",
       "</style>\n",
       "<table border=\"1\" class=\"dataframe\">\n",
       "  <thead>\n",
       "    <tr style=\"text-align: right;\">\n",
       "      <th></th>\n",
       "      <th>0</th>\n",
       "      <th>1</th>\n",
       "      <th>Outliers</th>\n",
       "    </tr>\n",
       "  </thead>\n",
       "  <tbody>\n",
       "    <tr>\n",
       "      <th>0</th>\n",
       "      <td>3.06</td>\n",
       "      <td>5.64</td>\n",
       "      <td>0</td>\n",
       "    </tr>\n",
       "    <tr>\n",
       "      <th>1</th>\n",
       "      <td>2.76</td>\n",
       "      <td>4.38</td>\n",
       "      <td>0</td>\n",
       "    </tr>\n",
       "    <tr>\n",
       "      <th>2</th>\n",
       "      <td>3.24</td>\n",
       "      <td>5.68</td>\n",
       "      <td>0</td>\n",
       "    </tr>\n",
       "    <tr>\n",
       "      <th>3</th>\n",
       "      <td>3.49</td>\n",
       "      <td>7.80</td>\n",
       "      <td>0</td>\n",
       "    </tr>\n",
       "    <tr>\n",
       "      <th>4</th>\n",
       "      <td>2.69</td>\n",
       "      <td>4.32</td>\n",
       "      <td>0</td>\n",
       "    </tr>\n",
       "  </tbody>\n",
       "</table>\n",
       "</div>"
      ],
      "text/plain": [
       "      0     1  Outliers\n",
       "0  3.06  5.64         0\n",
       "1  2.76  4.38         0\n",
       "2  3.24  5.68         0\n",
       "3  3.49  7.80         0\n",
       "4  2.69  4.32         0"
      ]
     },
     "execution_count": 66,
     "metadata": {},
     "output_type": "execute_result"
    }
   ],
   "source": [
    "final=pd.concat([df,outliers],axis=1)\n",
    "final.head()"
   ]
  },
  {
   "cell_type": "code",
   "execution_count": 67,
   "metadata": {},
   "outputs": [],
   "source": [
    "final.to_csv(\"Abhichal_Assignment8.csv\",index=None)"
   ]
  },
  {
   "cell_type": "code",
   "execution_count": null,
   "metadata": {},
   "outputs": [],
   "source": []
  },
  {
   "cell_type": "code",
   "execution_count": null,
   "metadata": {},
   "outputs": [],
   "source": []
  }
 ],
 "metadata": {
  "kernelspec": {
   "display_name": "Python 3",
   "language": "python",
   "name": "python3"
  },
  "language_info": {
   "codemirror_mode": {
    "name": "ipython",
    "version": 3
   },
   "file_extension": ".py",
   "mimetype": "text/x-python",
   "name": "python",
   "nbconvert_exporter": "python",
   "pygments_lexer": "ipython3",
   "version": "3.8.6"
  }
 },
 "nbformat": 4,
 "nbformat_minor": 4
}
